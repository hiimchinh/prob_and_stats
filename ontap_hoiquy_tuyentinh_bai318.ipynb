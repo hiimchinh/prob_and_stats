{
 "cells": [
  {
   "cell_type": "markdown",
   "metadata": {},
   "source": [
    "Viết mô hình hồi quy tuyến tính tổng thể biểu diễn valueformoney (Y) theo\n",
    "atmosphere (X)."
   ]
  },
  {
   "cell_type": "code",
   "execution_count": 1,
   "metadata": {},
   "outputs": [],
   "source": [
    "import numpy as np\n",
    "import pandas as pd\n",
    "import statsmodels.api as sm\n",
    "from sklearn.linear_model import LinearRegression\n",
    "import matplotlib.pyplot as plt\n"
   ]
  },
  {
   "cell_type": "code",
   "execution_count": 2,
   "metadata": {},
   "outputs": [
    {
     "name": "stdout",
     "output_type": "stream",
     "text": [
      "c:\\Thuc_hanh_xstk\\Du_Lieu_Thuc_Hanh_MA239\n"
     ]
    },
    {
     "name": "stderr",
     "output_type": "stream",
     "text": [
      "C:\\Users\\Kiet\\AppData\\Roaming\\Python\\Python311\\site-packages\\IPython\\core\\magics\\osm.py:417: UserWarning: This is now an optional IPython functionality, setting dhist requires you to install the `pickleshare` library.\n",
      "  self.shell.db['dhist'] = compress_dhist(dhist)[-100:]\n"
     ]
    }
   ],
   "source": [
    "%cd Du_Lieu_Thuc_Hanh_MA239/"
   ]
  },
  {
   "cell_type": "code",
   "execution_count": null,
   "metadata": {},
   "outputs": [],
   "source": [
    "\n",
    "# Mô hình hồi quy tổng thể:\n",
    "# Y = B1 + B2*X + U"
   ]
  },
  {
   "cell_type": "code",
   "execution_count": 4,
   "metadata": {},
   "outputs": [
    {
     "data": {
      "text/html": [
       "<div>\n",
       "<style scoped>\n",
       "    .dataframe tbody tr th:only-of-type {\n",
       "        vertical-align: middle;\n",
       "    }\n",
       "\n",
       "    .dataframe tbody tr th {\n",
       "        vertical-align: top;\n",
       "    }\n",
       "\n",
       "    .dataframe thead th {\n",
       "        text-align: right;\n",
       "    }\n",
       "</style>\n",
       "<table border=\"1\" class=\"dataframe\">\n",
       "  <thead>\n",
       "    <tr style=\"text-align: right;\">\n",
       "      <th></th>\n",
       "      <th>Unnamed: 0.1</th>\n",
       "      <th>Unnamed: 0</th>\n",
       "      <th>hostel_name</th>\n",
       "      <th>City</th>\n",
       "      <th>price_from</th>\n",
       "      <th>Distance</th>\n",
       "      <th>summary_score</th>\n",
       "      <th>rating_band</th>\n",
       "      <th>atmosphere</th>\n",
       "      <th>cleanliness</th>\n",
       "      <th>facilities</th>\n",
       "      <th>location_y</th>\n",
       "      <th>security</th>\n",
       "      <th>staff</th>\n",
       "      <th>valueformoney</th>\n",
       "      <th>lon</th>\n",
       "      <th>lat</th>\n",
       "    </tr>\n",
       "  </thead>\n",
       "  <tbody>\n",
       "    <tr>\n",
       "      <th>0</th>\n",
       "      <td>0</td>\n",
       "      <td>1</td>\n",
       "      <td>\"Bike &amp; Bed\" CharinCo Hostel</td>\n",
       "      <td>Osaka</td>\n",
       "      <td>3300</td>\n",
       "      <td>2.9km from city centre</td>\n",
       "      <td>9.2</td>\n",
       "      <td>Superb</td>\n",
       "      <td>8.9</td>\n",
       "      <td>9.4</td>\n",
       "      <td>9.3</td>\n",
       "      <td>8.9</td>\n",
       "      <td>9.0</td>\n",
       "      <td>9.4</td>\n",
       "      <td>9.4</td>\n",
       "      <td>135.513767</td>\n",
       "      <td>34.682678</td>\n",
       "    </tr>\n",
       "    <tr>\n",
       "      <th>1</th>\n",
       "      <td>2</td>\n",
       "      <td>3</td>\n",
       "      <td>&amp;And Hostel Akihabara</td>\n",
       "      <td>Tokyo</td>\n",
       "      <td>3600</td>\n",
       "      <td>7.8km from city centre</td>\n",
       "      <td>8.7</td>\n",
       "      <td>Fabulous</td>\n",
       "      <td>8.0</td>\n",
       "      <td>7.0</td>\n",
       "      <td>9.0</td>\n",
       "      <td>8.0</td>\n",
       "      <td>10.0</td>\n",
       "      <td>10.0</td>\n",
       "      <td>9.0</td>\n",
       "      <td>139.777472</td>\n",
       "      <td>35.697447</td>\n",
       "    </tr>\n",
       "    <tr>\n",
       "      <th>2</th>\n",
       "      <td>3</td>\n",
       "      <td>4</td>\n",
       "      <td>&amp;And Hostel Ueno</td>\n",
       "      <td>Tokyo</td>\n",
       "      <td>2600</td>\n",
       "      <td>8.7km from city centre</td>\n",
       "      <td>7.4</td>\n",
       "      <td>Very Good</td>\n",
       "      <td>8.0</td>\n",
       "      <td>7.5</td>\n",
       "      <td>7.5</td>\n",
       "      <td>7.5</td>\n",
       "      <td>7.0</td>\n",
       "      <td>8.0</td>\n",
       "      <td>6.5</td>\n",
       "      <td>139.783667</td>\n",
       "      <td>35.712716</td>\n",
       "    </tr>\n",
       "    <tr>\n",
       "      <th>3</th>\n",
       "      <td>4</td>\n",
       "      <td>5</td>\n",
       "      <td>&amp;And Hostel-Asakusa North-</td>\n",
       "      <td>Tokyo</td>\n",
       "      <td>1500</td>\n",
       "      <td>10.5km from city centre</td>\n",
       "      <td>9.4</td>\n",
       "      <td>Superb</td>\n",
       "      <td>9.5</td>\n",
       "      <td>9.5</td>\n",
       "      <td>9.0</td>\n",
       "      <td>9.0</td>\n",
       "      <td>9.5</td>\n",
       "      <td>10.0</td>\n",
       "      <td>9.5</td>\n",
       "      <td>139.798371</td>\n",
       "      <td>35.727898</td>\n",
       "    </tr>\n",
       "    <tr>\n",
       "      <th>4</th>\n",
       "      <td>5</td>\n",
       "      <td>6</td>\n",
       "      <td>1night1980hostel Tokyo</td>\n",
       "      <td>Tokyo</td>\n",
       "      <td>2100</td>\n",
       "      <td>9.4km from city centre</td>\n",
       "      <td>7.0</td>\n",
       "      <td>Very Good</td>\n",
       "      <td>5.5</td>\n",
       "      <td>8.0</td>\n",
       "      <td>6.0</td>\n",
       "      <td>6.0</td>\n",
       "      <td>8.5</td>\n",
       "      <td>8.5</td>\n",
       "      <td>6.5</td>\n",
       "      <td>139.786950</td>\n",
       "      <td>35.724384</td>\n",
       "    </tr>\n",
       "  </tbody>\n",
       "</table>\n",
       "</div>"
      ],
      "text/plain": [
       "   Unnamed: 0.1  Unnamed: 0                   hostel_name   City  price_from  \\\n",
       "0             0           1  \"Bike & Bed\" CharinCo Hostel  Osaka        3300   \n",
       "1             2           3         &And Hostel Akihabara  Tokyo        3600   \n",
       "2             3           4              &And Hostel Ueno  Tokyo        2600   \n",
       "3             4           5    &And Hostel-Asakusa North-  Tokyo        1500   \n",
       "4             5           6        1night1980hostel Tokyo  Tokyo        2100   \n",
       "\n",
       "                  Distance  summary_score rating_band  atmosphere  \\\n",
       "0   2.9km from city centre            9.2      Superb         8.9   \n",
       "1   7.8km from city centre            8.7    Fabulous         8.0   \n",
       "2   8.7km from city centre            7.4   Very Good         8.0   \n",
       "3  10.5km from city centre            9.4      Superb         9.5   \n",
       "4   9.4km from city centre            7.0   Very Good         5.5   \n",
       "\n",
       "   cleanliness  facilities  location_y  security  staff  valueformoney  \\\n",
       "0          9.4         9.3         8.9       9.0    9.4            9.4   \n",
       "1          7.0         9.0         8.0      10.0   10.0            9.0   \n",
       "2          7.5         7.5         7.5       7.0    8.0            6.5   \n",
       "3          9.5         9.0         9.0       9.5   10.0            9.5   \n",
       "4          8.0         6.0         6.0       8.5    8.5            6.5   \n",
       "\n",
       "          lon        lat  \n",
       "0  135.513767  34.682678  \n",
       "1  139.777472  35.697447  \n",
       "2  139.783667  35.712716  \n",
       "3  139.798371  35.727898  \n",
       "4  139.786950  35.724384  "
      ]
     },
     "execution_count": 4,
     "metadata": {},
     "output_type": "execute_result"
    }
   ],
   "source": [
    "ht = pd.read_csv('hostel.csv')\n",
    "ht.head()"
   ]
  },
  {
   "cell_type": "code",
   "execution_count": 24,
   "metadata": {},
   "outputs": [
    {
     "data": {
      "text/html": [
       "<table class=\"simpletable\">\n",
       "<caption>OLS Regression Results</caption>\n",
       "<tr>\n",
       "  <th>Dep. Variable:</th>      <td>valueformoney</td>  <th>  R-squared:         </th> <td>   0.566</td>\n",
       "</tr>\n",
       "<tr>\n",
       "  <th>Model:</th>                   <td>OLS</td>       <th>  Adj. R-squared:    </th> <td>   0.565</td>\n",
       "</tr>\n",
       "<tr>\n",
       "  <th>Method:</th>             <td>Least Squares</td>  <th>  F-statistic:       </th> <td>   386.1</td>\n",
       "</tr>\n",
       "<tr>\n",
       "  <th>Date:</th>             <td>Fri, 31 May 2024</td> <th>  Prob (F-statistic):</th> <td>1.34e-55</td>\n",
       "</tr>\n",
       "<tr>\n",
       "  <th>Time:</th>                 <td>09:13:38</td>     <th>  Log-Likelihood:    </th> <td> -300.73</td>\n",
       "</tr>\n",
       "<tr>\n",
       "  <th>No. Observations:</th>      <td>   298</td>      <th>  AIC:               </th> <td>   605.5</td>\n",
       "</tr>\n",
       "<tr>\n",
       "  <th>Df Residuals:</th>          <td>   296</td>      <th>  BIC:               </th> <td>   612.9</td>\n",
       "</tr>\n",
       "<tr>\n",
       "  <th>Df Model:</th>              <td>     1</td>      <th>                     </th>     <td> </td>   \n",
       "</tr>\n",
       "<tr>\n",
       "  <th>Covariance Type:</th>      <td>nonrobust</td>    <th>                     </th>     <td> </td>   \n",
       "</tr>\n",
       "</table>\n",
       "<table class=\"simpletable\">\n",
       "<tr>\n",
       "       <td></td>         <th>coef</th>     <th>std err</th>      <th>t</th>      <th>P>|t|</th>  <th>[0.025</th>    <th>0.975]</th>  \n",
       "</tr>\n",
       "<tr>\n",
       "  <th>const</th>      <td>    3.8790</td> <td>    0.257</td> <td>   15.099</td> <td> 0.000</td> <td>    3.373</td> <td>    4.385</td>\n",
       "</tr>\n",
       "<tr>\n",
       "  <th>atmosphere</th> <td>    0.5995</td> <td>    0.031</td> <td>   19.650</td> <td> 0.000</td> <td>    0.539</td> <td>    0.659</td>\n",
       "</tr>\n",
       "</table>\n",
       "<table class=\"simpletable\">\n",
       "<tr>\n",
       "  <th>Omnibus:</th>       <td>66.955</td> <th>  Durbin-Watson:     </th> <td>   2.013</td>\n",
       "</tr>\n",
       "<tr>\n",
       "  <th>Prob(Omnibus):</th> <td> 0.000</td> <th>  Jarque-Bera (JB):  </th> <td> 435.745</td>\n",
       "</tr>\n",
       "<tr>\n",
       "  <th>Skew:</th>          <td>-0.714</td> <th>  Prob(JB):          </th> <td>2.39e-95</td>\n",
       "</tr>\n",
       "<tr>\n",
       "  <th>Kurtosis:</th>      <td> 8.749</td> <th>  Cond. No.          </th> <td>    56.8</td>\n",
       "</tr>\n",
       "</table><br/><br/>Notes:<br/>[1] Standard Errors assume that the covariance matrix of the errors is correctly specified."
      ],
      "text/latex": [
       "\\begin{center}\n",
       "\\begin{tabular}{lclc}\n",
       "\\toprule\n",
       "\\textbf{Dep. Variable:}    &  valueformoney   & \\textbf{  R-squared:         } &     0.566   \\\\\n",
       "\\textbf{Model:}            &       OLS        & \\textbf{  Adj. R-squared:    } &     0.565   \\\\\n",
       "\\textbf{Method:}           &  Least Squares   & \\textbf{  F-statistic:       } &     386.1   \\\\\n",
       "\\textbf{Date:}             & Fri, 31 May 2024 & \\textbf{  Prob (F-statistic):} &  1.34e-55   \\\\\n",
       "\\textbf{Time:}             &     09:13:38     & \\textbf{  Log-Likelihood:    } &   -300.73   \\\\\n",
       "\\textbf{No. Observations:} &         298      & \\textbf{  AIC:               } &     605.5   \\\\\n",
       "\\textbf{Df Residuals:}     &         296      & \\textbf{  BIC:               } &     612.9   \\\\\n",
       "\\textbf{Df Model:}         &           1      & \\textbf{                     } &             \\\\\n",
       "\\textbf{Covariance Type:}  &    nonrobust     & \\textbf{                     } &             \\\\\n",
       "\\bottomrule\n",
       "\\end{tabular}\n",
       "\\begin{tabular}{lcccccc}\n",
       "                    & \\textbf{coef} & \\textbf{std err} & \\textbf{t} & \\textbf{P$> |$t$|$} & \\textbf{[0.025} & \\textbf{0.975]}  \\\\\n",
       "\\midrule\n",
       "\\textbf{const}      &       3.8790  &        0.257     &    15.099  &         0.000        &        3.373    &        4.385     \\\\\n",
       "\\textbf{atmosphere} &       0.5995  &        0.031     &    19.650  &         0.000        &        0.539    &        0.659     \\\\\n",
       "\\bottomrule\n",
       "\\end{tabular}\n",
       "\\begin{tabular}{lclc}\n",
       "\\textbf{Omnibus:}       & 66.955 & \\textbf{  Durbin-Watson:     } &    2.013  \\\\\n",
       "\\textbf{Prob(Omnibus):} &  0.000 & \\textbf{  Jarque-Bera (JB):  } &  435.745  \\\\\n",
       "\\textbf{Skew:}          & -0.714 & \\textbf{  Prob(JB):          } & 2.39e-95  \\\\\n",
       "\\textbf{Kurtosis:}      &  8.749 & \\textbf{  Cond. No.          } &     56.8  \\\\\n",
       "\\bottomrule\n",
       "\\end{tabular}\n",
       "%\\caption{OLS Regression Results}\n",
       "\\end{center}\n",
       "\n",
       "Notes: \\newline\n",
       " [1] Standard Errors assume that the covariance matrix of the errors is correctly specified."
      ],
      "text/plain": [
       "<class 'statsmodels.iolib.summary.Summary'>\n",
       "\"\"\"\n",
       "                            OLS Regression Results                            \n",
       "==============================================================================\n",
       "Dep. Variable:          valueformoney   R-squared:                       0.566\n",
       "Model:                            OLS   Adj. R-squared:                  0.565\n",
       "Method:                 Least Squares   F-statistic:                     386.1\n",
       "Date:                Fri, 31 May 2024   Prob (F-statistic):           1.34e-55\n",
       "Time:                        09:13:38   Log-Likelihood:                -300.73\n",
       "No. Observations:                 298   AIC:                             605.5\n",
       "Df Residuals:                     296   BIC:                             612.9\n",
       "Df Model:                           1                                         \n",
       "Covariance Type:            nonrobust                                         \n",
       "==============================================================================\n",
       "                 coef    std err          t      P>|t|      [0.025      0.975]\n",
       "------------------------------------------------------------------------------\n",
       "const          3.8790      0.257     15.099      0.000       3.373       4.385\n",
       "atmosphere     0.5995      0.031     19.650      0.000       0.539       0.659\n",
       "==============================================================================\n",
       "Omnibus:                       66.955   Durbin-Watson:                   2.013\n",
       "Prob(Omnibus):                  0.000   Jarque-Bera (JB):              435.745\n",
       "Skew:                          -0.714   Prob(JB):                     2.39e-95\n",
       "Kurtosis:                       8.749   Cond. No.                         56.8\n",
       "==============================================================================\n",
       "\n",
       "Notes:\n",
       "[1] Standard Errors assume that the covariance matrix of the errors is correctly specified.\n",
       "\"\"\""
      ]
     },
     "execution_count": 24,
     "metadata": {},
     "output_type": "execute_result"
    }
   ],
   "source": [
    "# Viết mô hình hồi quy tuyến tính tổng thể biểu diễn valueformoney (Y) theo\n",
    "# atmosphere (X).\n",
    "chinh = sm.add_constant(ht['atmosphere'])\n",
    "model = sm.OLS(ht['valueformoney'], chinh).fit()\n",
    "model.summary()\n",
    "# chinh\n"
   ]
  },
  {
   "cell_type": "code",
   "execution_count": null,
   "metadata": {},
   "outputs": [],
   "source": [
    "#  Ước lượng mô hình hồi quy câu (a) (mô hình hồi quy mẫu) và nêu ý nghĩa của\n",
    "# hệ số góc.\n",
    "# Y = 3,8790 + 0.5995*X + e \n",
    "# Khi điểm  đánh giá về môi trường tăng thêm 1 đơn thì trung bình điểm đánh giá giá trị tiền bỏ tăng thêm 0.5995 điểm"
   ]
  },
  {
   "cell_type": "code",
   "execution_count": 15,
   "metadata": {},
   "outputs": [
    {
     "data": {
      "text/plain": [
       "[<matplotlib.lines.Line2D at 0x202f4b07b10>]"
      ]
     },
     "execution_count": 15,
     "metadata": {},
     "output_type": "execute_result"
    },
    {
     "data": {
      "image/png": "[encoded data removed]",
      "text/plain": [
       "<Figure size 640x480 with 1 Axes>"
      ]
     },
     "metadata": {},
     "output_type": "display_data"
    }
   ],
   "source": [
    "# câu c\n",
    "bieudotanxa = plt.scatter(ht.atmosphere, ht.valueformoney)\n",
    "# Vẽ biểu đồ tán xạ và đường hồi quy tuyến tính mẫu trên cùng một biểu đồ và\n",
    "# đưa ra nhận xét.\n",
    "a , b = np.polyfit(ht.atmosphere, ht.valueformoney, 1)\n",
    "plt.plot(ht.atmosphere, a*ht.atmosphere + b)\n",
    "\n"
   ]
  },
  {
   "cell_type": "code",
   "execution_count": null,
   "metadata": {},
   "outputs": [],
   "source": [
    "# Kiểm định tại mức ý nghĩa α = 5% xem biến atmosphere có ảnh hưởng có ý\n",
    "# nghĩa đến biến valueformoney) không?\n",
    "# Mô hình hồi quy tổng thể:\n",
    "# Y = B1 + B2*X + U\n",
    "# Kiểm định cặp giả thuyết\n",
    "# H0: B2 = 0 (Mô hình không có ý nghĩa)\n",
    "# H1: B2 # 0 (Mô hình có ý nghĩa)\n",
    "# \tcoef\tstd err\tt\tP>|t|\t[0.025\t0.975]\n",
    "# const\t3.8790\t0.257\t15.099\t0.000\t3.373\t4.385\n",
    "# atmosphere\t0.5995\t0.031\t19.650\t0.000\t0.539\t0.659\n",
    "\n",
    "\n",
    "\n",
    "# Ta có p-giá trị < 0.001 < 0.05 nên bác bỏ H0, hay mô hình có ý nghĩa"
   ]
  },
  {
   "cell_type": "code",
   "execution_count": 19,
   "metadata": {},
   "outputs": [
    {
     "data": {
      "text/html": [
       "<div>\n",
       "<style scoped>\n",
       "    .dataframe tbody tr th:only-of-type {\n",
       "        vertical-align: middle;\n",
       "    }\n",
       "\n",
       "    .dataframe tbody tr th {\n",
       "        vertical-align: top;\n",
       "    }\n",
       "\n",
       "    .dataframe thead th {\n",
       "        text-align: right;\n",
       "    }\n",
       "</style>\n",
       "<table border=\"1\" class=\"dataframe\">\n",
       "  <thead>\n",
       "    <tr style=\"text-align: right;\">\n",
       "      <th></th>\n",
       "      <th>0</th>\n",
       "      <th>1</th>\n",
       "    </tr>\n",
       "  </thead>\n",
       "  <tbody>\n",
       "    <tr>\n",
       "      <th>const</th>\n",
       "      <td>3.846696</td>\n",
       "      <td>3.911316</td>\n",
       "    </tr>\n",
       "    <tr>\n",
       "      <th>atmosphere</th>\n",
       "      <td>0.595622</td>\n",
       "      <td>0.603295</td>\n",
       "    </tr>\n",
       "  </tbody>\n",
       "</table>\n",
       "</div>"
      ],
      "text/plain": [
       "                   0         1\n",
       "const       3.846696  3.911316\n",
       "atmosphere  0.595622  0.603295"
      ]
     },
     "execution_count": 19,
     "metadata": {},
     "output_type": "execute_result"
    }
   ],
   "source": [
    "# e. Tìm khoảng tin cậy 90% cho hệ số góc của mô hình trong câu (a).\n",
    "model.conf_int(0.90) \n",
    "# \t0\t1\n",
    "# const\t3.846696\t3.911316\n",
    "# atmosphere\t0.595622\t0.60329\n",
    "# Vậy khoảng tin cậy 90% cho hệ số góc là [0.595622  ,0.603295]"
   ]
  },
  {
   "cell_type": "code",
   "execution_count": null,
   "metadata": {},
   "outputs": [],
   "source": [
    "# f. Một nhà nghỉ có điểm đánh giá môi trường X = 9.1. Đưa ra giá trị dự báo cho\n",
    "# điểm đánh giá số tiền bỏ ra xứng đáng valueformoney (Y) của nhà nghỉ này"
   ]
  },
  {
   "cell_type": "code",
   "execution_count": 23,
   "metadata": {},
   "outputs": [
    {
     "data": {
      "text/plain": [
       "array([9.33407714])"
      ]
     },
     "execution_count": 23,
     "metadata": {},
     "output_type": "execute_result"
    }
   ],
   "source": [
    "model.predict([1,9.1])"
   ]
  },
  {
   "cell_type": "markdown",
   "metadata": {},
   "source": [
    "Tính hệ số xác định của mô hình hồi quy trên và nêu ý nghĩa\n"
   ]
  },
  {
   "cell_type": "code",
   "execution_count": null,
   "metadata": {},
   "outputs": [],
   "source": [
    "# Dep. Variable:\tvalueformoney\tR-squared:\t0.566\n",
    "# Hệ số xác định của mô hình (R^2 ) = 0.566\n",
    "\n",
    "\n",
    "# Nhận xét\n",
    "# Hệ số xác định R^2 = 0.566 cho thấy mô hình hồi quy đơn (Y chỉ theo X) phù hợp ở mức độ trung bình so với với tập số liệu\n",
    "# 56.6% sự biến động của Y được giải thích qua biến X từ mô hình"
   ]
  }
 ],
 "metadata": {
  "kernelspec": {
   "display_name": "Python 3",
   "language": "python",
   "name": "python3"
  },
  "language_info": {
   "codemirror_mode": {
    "name": "ipython",
    "version": 3
   },
   "file_extension": ".py",
   "mimetype": "text/x-python",
   "name": "python",
   "nbconvert_exporter": "python",
   "pygments_lexer": "ipython3",
   "version": "3.11.1"
  }
 },
 "nbformat": 4,
 "nbformat_minor": 2
}
