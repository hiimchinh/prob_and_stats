{
 "cells": [
  {
   "cell_type": "markdown",
   "id": "6df98453",
   "metadata": {},
   "source": [
    "#### Quy trình kiểm định trong thống kê\n",
    "- B1: Đặt cặp giả thuyết: H0, H1\n",
    "\n",
    "Điều kiện khi đặt H0, H1\n",
    "    - H0 có dấu =, H1: không có dấu =\n",
    "    - H0, H1 có giả thuyết cần kiểm định\n",
    "\n",
    "Quy trình đặt H0, H1\n",
    "B1: Đưa giả thuyết cần kiểm định\n",
    "B2: Giả thuyết cần kiểm định có dấu = thì đặt H0, không có dấu = đặt H1\n",
    "\n",
    "- B2: Thực hiện kiểm định:\n",
    " --> tìm p-giá trị\n",
    " \n",
    "- B3: Kết luận: so sánh p-giá trị với mức ý nghĩa alpha\n",
    "    - Nếu p-giá trị < alpha thì bác bỏ H0\n",
    "    - Nếu p-giá trị >= alpha thì chấp nhận H0\n",
    "    \n"
   ]
  },
  {
   "cell_type": "markdown",
   "id": "3551f5f4",
   "metadata": {},
   "source": [
    "#### Bài 274.\n",
    "\n",
    "Một công ty dược phẩm ở Anh, Glaxo Holdings, mới phát triển một loại\n",
    "thuốc điều trị chứng đau nửa đầu. Theo công ty dược này, thời gian trung bình\n",
    "để chất somatriptan, một thành phần của thuốc, đi vào máu ít hơn 10 phút. Để\n",
    "thuyết phục cơ quan quản lý về nhận định này, Glaxo tiến hành một thử nghiệm\n",
    "trên một nhóm bệnh nhân bị chứng đau nửa đầu được chọn ngẫu nhiên. Để chứng\n",
    "minh khẳng định của mình, họ cần đưa ra giả thuyết không và giả thuyết đối như\n",
    "thế nào?\n",
    "\n",
    "Gọi mu là thời gian trung bình để chất somatriptan đi vào máu.\n",
    "\n",
    "Cần kiểm định giả thuyết: mu < 10\n",
    "\n",
    "Kiểm định cặp giả thuyết:\n",
    "- H0: mu >= 10\n",
    "- H1: mu < 10"
   ]
  },
  {
   "cell_type": "markdown",
   "id": "d32dfc51",
   "metadata": {},
   "source": [
    "#### Bài 271.\n",
    "\n",
    "Một nhà xã hội học cho rằng xác suất một người khách du lịch nước ngoài\n",
    "được chọn ngẫu nhiên ở Hà Nội sẽ đi thăm vịnh Hạ Long là 80%.\n",
    "\n",
    "Bạn cho rằng tỷ lệ này thực sự là dưới 80%. Hãy nêu biến ngẫu nhiên và đặt\n",
    "cặp giả thuyết không và giả thuyết đối.\n",
    "\n",
    "Gọi p là tỷ lệ khách du lịch nước ngoài đến HN và thăm vịnh Hạ Long\n",
    "\n",
    "Giả thuyết cần kiểm định là: p < 0.8\n",
    "\n",
    "Cặp giả thuyết cần kiểm định:\n",
    "- H0: p >= 0.8\n",
    "- H1: p < 0.8"
   ]
  },
  {
   "cell_type": "markdown",
   "id": "96da7798",
   "metadata": {},
   "source": [
    "#### Bài 285.\n",
    "\n",
    "Một công ty sản xuất những tấm nhựa dùng trong công nghiêp vừa đưa\n",
    "ra một sản phẩm mới và cho rằng sản phẩm này có thể chịu được sức ép trung bình\n",
    "ít nhất là 30 (psi), ở đây khả năng chịu lực được tính bằng số pound cần thiết làm\n",
    "vỡ tấm nhựa trên một diện tích 1 inch vuông. Dữ liệu sau đây cho biết khả năng\n",
    "chịu lực của một mẫu gồm 16 tấm nhựa (file dữ liệu Nhua.txt).\n",
    "\n",
    "30.1 32.7 22.5 27.5 27.7 29.8 28.9 31.4\n",
    "31.2 24.3 26.4 22.8 29.1 33.4 32.5 21.7\n",
    "\n",
    "Giả thiết rằng khả năng chịu lực của các tấm nhựa tuân theo phân phối chuẩn, dựa\n",
    "vào dữ liệu hãy kết luận về khẳng định của công ty với mức ý nghĩa α = 5% bằng\n",
    "cách dùng phương pháp\n",
    "\n",
    "a. Giá trị tới hạn.\n",
    "\n",
    "b. p - giá trị."
   ]
  },
  {
   "cell_type": "code",
   "execution_count": 1,
   "id": "081f15af",
   "metadata": {},
   "outputs": [],
   "source": [
    "import pandas as pd\n",
    "import scipy.stats as ss"
   ]
  },
  {
   "cell_type": "code",
   "execution_count": 3,
   "id": "ea31718c",
   "metadata": {},
   "outputs": [
    {
     "name": "stdout",
     "output_type": "stream",
     "text": [
      "D:\\MA239\\Du_lieu\n"
     ]
    }
   ],
   "source": [
    "%cd D:\\MA239\\Du_lieu"
   ]
  },
  {
   "cell_type": "code",
   "execution_count": 12,
   "id": "04845ba7",
   "metadata": {},
   "outputs": [
    {
     "data": {
      "text/html": [
       "<div>\n",
       "<style scoped>\n",
       "    .dataframe tbody tr th:only-of-type {\n",
       "        vertical-align: middle;\n",
       "    }\n",
       "\n",
       "    .dataframe tbody tr th {\n",
       "        vertical-align: top;\n",
       "    }\n",
       "\n",
       "    .dataframe thead th {\n",
       "        text-align: right;\n",
       "    }\n",
       "</style>\n",
       "<table border=\"1\" class=\"dataframe\">\n",
       "  <thead>\n",
       "    <tr style=\"text-align: right;\">\n",
       "      <th></th>\n",
       "      <th>DoBen</th>\n",
       "    </tr>\n",
       "  </thead>\n",
       "  <tbody>\n",
       "    <tr>\n",
       "      <th>0</th>\n",
       "      <td>30.1</td>\n",
       "    </tr>\n",
       "    <tr>\n",
       "      <th>1</th>\n",
       "      <td>32.7</td>\n",
       "    </tr>\n",
       "    <tr>\n",
       "      <th>2</th>\n",
       "      <td>22.5</td>\n",
       "    </tr>\n",
       "    <tr>\n",
       "      <th>3</th>\n",
       "      <td>27.5</td>\n",
       "    </tr>\n",
       "    <tr>\n",
       "      <th>4</th>\n",
       "      <td>27.7</td>\n",
       "    </tr>\n",
       "  </tbody>\n",
       "</table>\n",
       "</div>"
      ],
      "text/plain": [
       "   DoBen\n",
       "0   30.1\n",
       "1   32.7\n",
       "2   22.5\n",
       "3   27.5\n",
       "4   27.7"
      ]
     },
     "execution_count": 12,
     "metadata": {},
     "output_type": "execute_result"
    }
   ],
   "source": [
    "df_nhua = pd.read_csv('Nhua.txt')\n",
    "df_nhua.head()"
   ]
  },
  {
   "cell_type": "markdown",
   "id": "2bf5981a",
   "metadata": {},
   "source": [
    "B1: Gọi mu là trung bình của sức ép của loại nhựa này.\n",
    "\n",
    "Giả thuyết cần kiểm định: mu >= 30\n",
    "\n",
    "Kiểm định cặp giả thuyết:\n",
    "\n",
    "- H0: mu >= 30\n",
    "- H1: mu < 30\n",
    "\n",
    "B2: Tiến hành kiểm định \n",
    "\n",
    "Cách 1. so sánh giá trị thống kê và tới hạn\n",
    "- Giá trị thống kê: t = -1.85\n",
    "- Giá trị tới hạn t(n-1, alpha) = t(15, 0.05) = ss.t.ppf(1-0.05, 15) = 1.73\n",
    "\n",
    "- B3. Kết luận: do t = -1.85 < -1.73 nên bác bỏ H0\n",
    "- Tại mức ý nghĩa alpha=5%, ta có cơ sở thống kê để cho rằng khẳng định công ty là không đúng.\n",
    "\n",
    "Cách 2. so sánh p-giá trị và alpha\n",
    "- B3. Ta có pvalue=0.04 < alpha=0.05 nên bác bỏ H0\n",
    "- Tại mức ý nghĩa alpha=5%, ta có cơ sở thống kê để cho rằng khẳng định công ty là không đúng."
   ]
  },
  {
   "cell_type": "code",
   "execution_count": 7,
   "id": "ef07d68b",
   "metadata": {},
   "outputs": [
    {
     "data": {
      "text/plain": [
       "TtestResult(statistic=-1.8466293347032539, pvalue=0.042312203258501976, df=15)"
      ]
     },
     "execution_count": 7,
     "metadata": {},
     "output_type": "execute_result"
    }
   ],
   "source": [
    "ss.ttest_1samp(df_nhua.DoBen, popmean=30, alternative='less')"
   ]
  },
  {
   "cell_type": "code",
   "execution_count": 8,
   "id": "a0973350",
   "metadata": {},
   "outputs": [
    {
     "data": {
      "text/plain": [
       "1.7530503556925547"
      ]
     },
     "execution_count": 8,
     "metadata": {},
     "output_type": "execute_result"
    }
   ],
   "source": [
    "ss.t.ppf(1-0.05, 15)"
   ]
  },
  {
   "cell_type": "markdown",
   "id": "c373e47d",
   "metadata": {},
   "source": [
    "#### Bài 292\n",
    "Dùng file dữ liệu ThoiGianCho.csv kiểm định xem tỷ lệ lượt khách\n",
    "hàng phải chờ trên 7 phút không vượt quá 25% hay không tại mức ý nghĩa α = 5%."
   ]
  },
  {
   "cell_type": "code",
   "execution_count": 13,
   "id": "4678195f",
   "metadata": {},
   "outputs": [
    {
     "data": {
      "text/html": [
       "<div>\n",
       "<style scoped>\n",
       "    .dataframe tbody tr th:only-of-type {\n",
       "        vertical-align: middle;\n",
       "    }\n",
       "\n",
       "    .dataframe tbody tr th {\n",
       "        vertical-align: top;\n",
       "    }\n",
       "\n",
       "    .dataframe thead th {\n",
       "        text-align: right;\n",
       "    }\n",
       "</style>\n",
       "<table border=\"1\" class=\"dataframe\">\n",
       "  <thead>\n",
       "    <tr style=\"text-align: right;\">\n",
       "      <th></th>\n",
       "      <th>ThoiGian</th>\n",
       "    </tr>\n",
       "  </thead>\n",
       "  <tbody>\n",
       "    <tr>\n",
       "      <th>0</th>\n",
       "      <td>1.6</td>\n",
       "    </tr>\n",
       "    <tr>\n",
       "      <th>1</th>\n",
       "      <td>6.6</td>\n",
       "    </tr>\n",
       "    <tr>\n",
       "      <th>2</th>\n",
       "      <td>5.6</td>\n",
       "    </tr>\n",
       "    <tr>\n",
       "      <th>3</th>\n",
       "      <td>5.1</td>\n",
       "    </tr>\n",
       "    <tr>\n",
       "      <th>4</th>\n",
       "      <td>3.9</td>\n",
       "    </tr>\n",
       "  </tbody>\n",
       "</table>\n",
       "</div>"
      ],
      "text/plain": [
       "   ThoiGian\n",
       "0       1.6\n",
       "1       6.6\n",
       "2       5.6\n",
       "3       5.1\n",
       "4       3.9"
      ]
     },
     "execution_count": 13,
     "metadata": {},
     "output_type": "execute_result"
    }
   ],
   "source": [
    "df_tg = pd.read_csv('ThoiGianCho.csv')\n",
    "df_tg.head()"
   ]
  },
  {
   "cell_type": "code",
   "execution_count": null,
   "id": "d2269274",
   "metadata": {},
   "outputs": [],
   "source": [
    "# Gọi p là tỷ lệ lượt khách hàng chờ trên 7 phút. (p <= 0.25)\n",
    "# Kiểm định cặp giả thuyết\n",
    "# H0: p <= 0.25\n",
    "# H1: p > 0.25"
   ]
  },
  {
   "cell_type": "code",
   "execution_count": 21,
   "id": "9283d26e",
   "metadata": {},
   "outputs": [
    {
     "name": "stdout",
     "output_type": "stream",
     "text": [
      "26\n",
      "100\n"
     ]
    }
   ],
   "source": [
    "cho_7 = df_tg[df_tg.ThoiGian > 7].shape[0]\n",
    "print(cho_7)\n",
    "tong = df_tg.ThoiGian.shape[0]\n",
    "print(tong)"
   ]
  },
  {
   "cell_type": "code",
   "execution_count": 24,
   "id": "1e4669cf",
   "metadata": {},
   "outputs": [
    {
     "data": {
      "text/plain": [
       "BinomTestResult(k=26, n=100, alternative='greater', statistic=0.26, pvalue=0.4465291761517525)"
      ]
     },
     "execution_count": 24,
     "metadata": {},
     "output_type": "execute_result"
    }
   ],
   "source": [
    "ss.binomtest(26, 100, p=0.25, alternative='greater')\n",
    "# ta có p-giá trị = 0.45 > 0.05 nên chấp nhận H0\n",
    "#Tại mức ý nghĩa alpha=0.05 ta có cơ sở thống kê để cho rằng tỷ lệ khách hàng chờ trên 7 phút\n",
    "#không vượt quá 25%"
   ]
  },
  {
   "cell_type": "code",
   "execution_count": null,
   "id": "d0308621",
   "metadata": {},
   "outputs": [],
   "source": []
  }
 ],
 "metadata": {
  "kernelspec": {
   "display_name": "Python 3 (ipykernel)",
   "language": "python",
   "name": "python3"
  },
  "language_info": {
   "codemirror_mode": {
    "name": "ipython",
    "version": 3
   },
   "file_extension": ".py",
   "mimetype": "text/x-python",
   "name": "python",
   "nbconvert_exporter": "python",
   "pygments_lexer": "ipython3",
   "version": "3.12.4"
  }
 },
 "nbformat": 4,
 "nbformat_minor": 5
}
