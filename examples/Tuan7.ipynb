{
 "cells": [
  {
   "cell_type": "code",
   "execution_count": 1,
   "id": "1919052e",
   "metadata": {},
   "outputs": [],
   "source": [
    "import pandas as pd"
   ]
  },
  {
   "cell_type": "code",
   "execution_count": 2,
   "id": "aa8ae934",
   "metadata": {},
   "outputs": [],
   "source": [
    "df = pd.read_csv('Du_lieu/SoLieu.csv')"
   ]
  },
  {
   "cell_type": "code",
   "execution_count": 3,
   "id": "d01fb213",
   "metadata": {},
   "outputs": [
    {
     "data": {
      "text/plain": [
       "Index(['STT', 'GioiTinh', 'Tuoi', 'KhuVuc', 'ThuNhap'], dtype='object')"
      ]
     },
     "execution_count": 3,
     "metadata": {},
     "output_type": "execute_result"
    }
   ],
   "source": [
    "df.columns"
   ]
  },
  {
   "cell_type": "markdown",
   "id": "85a73762",
   "metadata": {},
   "source": [
    "c.Trong số nữ được điều tra, hãy tính tỉ lệ nữ sống ở thành phố và miền núi."
   ]
  },
  {
   "cell_type": "code",
   "execution_count": 4,
   "id": "f1518646",
   "metadata": {},
   "outputs": [
    {
     "data": {
      "text/html": [
       "<div>\n",
       "<style scoped>\n",
       "    .dataframe tbody tr th:only-of-type {\n",
       "        vertical-align: middle;\n",
       "    }\n",
       "\n",
       "    .dataframe tbody tr th {\n",
       "        vertical-align: top;\n",
       "    }\n",
       "\n",
       "    .dataframe thead th {\n",
       "        text-align: right;\n",
       "    }\n",
       "</style>\n",
       "<table border=\"1\" class=\"dataframe\">\n",
       "  <thead>\n",
       "    <tr style=\"text-align: right;\">\n",
       "      <th>KhuVuc</th>\n",
       "      <th>HaiDao</th>\n",
       "      <th>MienNui</th>\n",
       "      <th>NongThon</th>\n",
       "      <th>ThanhPho</th>\n",
       "    </tr>\n",
       "    <tr>\n",
       "      <th>GioiTinh</th>\n",
       "      <th></th>\n",
       "      <th></th>\n",
       "      <th></th>\n",
       "      <th></th>\n",
       "    </tr>\n",
       "  </thead>\n",
       "  <tbody>\n",
       "    <tr>\n",
       "      <th>Nam</th>\n",
       "      <td>0.109091</td>\n",
       "      <td>0.236364</td>\n",
       "      <td>0.181818</td>\n",
       "      <td>0.472727</td>\n",
       "    </tr>\n",
       "    <tr>\n",
       "      <th>Nu</th>\n",
       "      <td>0.133333</td>\n",
       "      <td>0.288889</td>\n",
       "      <td>0.222222</td>\n",
       "      <td>0.355556</td>\n",
       "    </tr>\n",
       "  </tbody>\n",
       "</table>\n",
       "</div>"
      ],
      "text/plain": [
       "KhuVuc      HaiDao   MienNui  NongThon  ThanhPho\n",
       "GioiTinh                                        \n",
       "Nam       0.109091  0.236364  0.181818  0.472727\n",
       "Nu        0.133333  0.288889  0.222222  0.355556"
      ]
     },
     "execution_count": 4,
     "metadata": {},
     "output_type": "execute_result"
    }
   ],
   "source": [
    "ti_le = pd.crosstab(df.GioiTinh, df.KhuVuc, normalize = 'index')\n",
    "ti_le\n",
    "#Trong nữ, tỷ lệ sống ở thành phố là 0.355556 và miền núi 0.288889"
   ]
  },
  {
   "cell_type": "markdown",
   "id": "8039baa0",
   "metadata": {},
   "source": [
    "d. Tiến hành phân tổ cột dữ liệu về tuổi thành các tổ với các điểm chia là 20, 30, 40, 50, 60, 70, 80\n",
    "và tính tỉ lệ những người được điều tra có độ tuổi không vượt quá 50."
   ]
  },
  {
   "cell_type": "code",
   "execution_count": 18,
   "id": "be4f9ec3",
   "metadata": {},
   "outputs": [
    {
     "data": {
      "text/plain": [
       "24"
      ]
     },
     "execution_count": 18,
     "metadata": {},
     "output_type": "execute_result"
    }
   ],
   "source": [
    "df.Tuoi.min()"
   ]
  },
  {
   "cell_type": "code",
   "execution_count": 19,
   "id": "a5ec3418",
   "metadata": {},
   "outputs": [
    {
     "data": {
      "text/plain": [
       "78"
      ]
     },
     "execution_count": 19,
     "metadata": {},
     "output_type": "execute_result"
    }
   ],
   "source": [
    "df.Tuoi.max()"
   ]
  },
  {
   "cell_type": "code",
   "execution_count": 7,
   "id": "de84ad31",
   "metadata": {},
   "outputs": [
    {
     "data": {
      "text/plain": [
       "(30, 40]    41\n",
       "(20, 30]    20\n",
       "(60, 70]    13\n",
       "(40, 50]    12\n",
       "(50, 60]    12\n",
       "(70, 80]     2\n",
       "Name: Tuoi, dtype: int64"
      ]
     },
     "execution_count": 7,
     "metadata": {},
     "output_type": "execute_result"
    }
   ],
   "source": [
    "phan_tuoi = pd.cut(df.Tuoi, bins = [20, 30, 40, 50, 60, 70, 80])\n",
    "phan_tuoi.value_counts()"
   ]
  },
  {
   "cell_type": "code",
   "execution_count": 17,
   "id": "c68b73d8",
   "metadata": {},
   "outputs": [
    {
     "name": "stdout",
     "output_type": "stream",
     "text": [
      "tỉ lệ những người được điều tra có độ tuổi không vượt quá 50: 0.73\n"
     ]
    }
   ],
   "source": [
    "result = (df[df.Tuoi <= 50].shape[0])/ df.shape[0]\n",
    "print('tỉ lệ những người được điều tra có độ tuổi không vượt quá 50:', result)"
   ]
  },
  {
   "cell_type": "markdown",
   "id": "05214ec5",
   "metadata": {},
   "source": [
    "e. Tiến hành phân tổ cột dữ liệu về thu nhập thành các tổ với các điểm chia là\n",
    "20, 30, 40, 50, 60, 70, 80, 90, 100 và cho nhận xét"
   ]
  },
  {
   "cell_type": "code",
   "execution_count": 21,
   "id": "f45ad85d",
   "metadata": {},
   "outputs": [
    {
     "data": {
      "text/plain": [
       "20"
      ]
     },
     "execution_count": 21,
     "metadata": {},
     "output_type": "execute_result"
    }
   ],
   "source": [
    "df.ThuNhap.min()"
   ]
  },
  {
   "cell_type": "code",
   "execution_count": 22,
   "id": "d43ed240",
   "metadata": {},
   "outputs": [
    {
     "data": {
      "text/plain": [
       "100"
      ]
     },
     "execution_count": 22,
     "metadata": {},
     "output_type": "execute_result"
    }
   ],
   "source": [
    "df.ThuNhap.max()"
   ]
  },
  {
   "cell_type": "code",
   "execution_count": 24,
   "id": "9ac4960a",
   "metadata": {},
   "outputs": [
    {
     "data": {
      "text/plain": [
       "(40, 50]     30\n",
       "(20, 30]     28\n",
       "(30, 40]     10\n",
       "(70, 80]      9\n",
       "(90, 100]     6\n",
       "(60, 70]      5\n",
       "(50, 60]      2\n",
       "(80, 90]      1\n",
       "Name: ThuNhap, dtype: int64"
      ]
     },
     "execution_count": 24,
     "metadata": {},
     "output_type": "execute_result"
    }
   ],
   "source": [
    "phan_tn = pd.cut(df.ThuNhap, bins = [20, 30, 40, 50, 60, 70, 80, 90, 100])\n",
    "phan_tn.value_counts() # thieu 20 o to dau"
   ]
  },
  {
   "cell_type": "code",
   "execution_count": 25,
   "id": "1ba1536f",
   "metadata": {},
   "outputs": [
    {
     "data": {
      "text/plain": [
       "(30.0, 40.0]      41\n",
       "(19.999, 30.0]    20\n",
       "(60.0, 70.0]      13\n",
       "(40.0, 50.0]      12\n",
       "(50.0, 60.0]      12\n",
       "(70.0, 80.0]       2\n",
       "(80.0, 90.0]       0\n",
       "(90.0, 100.0]      0\n",
       "Name: Tuoi, dtype: int64"
      ]
     },
     "execution_count": 25,
     "metadata": {},
     "output_type": "execute_result"
    }
   ],
   "source": [
    "phan_tuoi = pd.cut(df.Tuoi, bins = [20, 30, 40, 50, 60, 70, 80, 90, 100], include_lowest = True)\n",
    "phan_tuoi.value_counts()"
   ]
  },
  {
   "cell_type": "code",
   "execution_count": null,
   "id": "c9738f85",
   "metadata": {},
   "outputs": [],
   "source": [
    "# Biểu đồ:\n",
    "# Phân loại:\n",
    "# Định tính: thanh, tròn\n",
    "# Định lượng: Phân phối tần số(histogram: dữ liệu lớn), thân và lá (dữ liệu nhỏ), biểu đồ hộp\n",
    "# Đưa ra biểu đồ thích hợp cho từng cột dữ liệu trong file SoLieu.csv"
   ]
  },
  {
   "cell_type": "code",
   "execution_count": 26,
   "id": "36c9b984",
   "metadata": {},
   "outputs": [
    {
     "data": {
      "text/html": [
       "<div>\n",
       "<style scoped>\n",
       "    .dataframe tbody tr th:only-of-type {\n",
       "        vertical-align: middle;\n",
       "    }\n",
       "\n",
       "    .dataframe tbody tr th {\n",
       "        vertical-align: top;\n",
       "    }\n",
       "\n",
       "    .dataframe thead th {\n",
       "        text-align: right;\n",
       "    }\n",
       "</style>\n",
       "<table border=\"1\" class=\"dataframe\">\n",
       "  <thead>\n",
       "    <tr style=\"text-align: right;\">\n",
       "      <th></th>\n",
       "      <th>STT</th>\n",
       "      <th>GioiTinh</th>\n",
       "      <th>Tuoi</th>\n",
       "      <th>KhuVuc</th>\n",
       "      <th>ThuNhap</th>\n",
       "    </tr>\n",
       "  </thead>\n",
       "  <tbody>\n",
       "    <tr>\n",
       "      <th>0</th>\n",
       "      <td>1</td>\n",
       "      <td>Nam</td>\n",
       "      <td>30</td>\n",
       "      <td>NongThon</td>\n",
       "      <td>30</td>\n",
       "    </tr>\n",
       "    <tr>\n",
       "      <th>1</th>\n",
       "      <td>2</td>\n",
       "      <td>Nu</td>\n",
       "      <td>27</td>\n",
       "      <td>ThanhPho</td>\n",
       "      <td>40</td>\n",
       "    </tr>\n",
       "    <tr>\n",
       "      <th>2</th>\n",
       "      <td>3</td>\n",
       "      <td>Nu</td>\n",
       "      <td>32</td>\n",
       "      <td>MienNui</td>\n",
       "      <td>25</td>\n",
       "    </tr>\n",
       "    <tr>\n",
       "      <th>3</th>\n",
       "      <td>4</td>\n",
       "      <td>Nam</td>\n",
       "      <td>31</td>\n",
       "      <td>NongThon</td>\n",
       "      <td>35</td>\n",
       "    </tr>\n",
       "    <tr>\n",
       "      <th>4</th>\n",
       "      <td>5</td>\n",
       "      <td>Nu</td>\n",
       "      <td>41</td>\n",
       "      <td>HaiDao</td>\n",
       "      <td>42</td>\n",
       "    </tr>\n",
       "  </tbody>\n",
       "</table>\n",
       "</div>"
      ],
      "text/plain": [
       "   STT GioiTinh  Tuoi    KhuVuc  ThuNhap\n",
       "0    1      Nam    30  NongThon       30\n",
       "1    2       Nu    27  ThanhPho       40\n",
       "2    3       Nu    32   MienNui       25\n",
       "3    4      Nam    31  NongThon       35\n",
       "4    5       Nu    41    HaiDao       42"
      ]
     },
     "execution_count": 26,
     "metadata": {},
     "output_type": "execute_result"
    }
   ],
   "source": [
    "bai9 = pd.read_csv(\"SoLieu.csv\")\n",
    "bai9.head()"
   ]
  },
  {
   "cell_type": "code",
   "execution_count": 30,
   "id": "8adacb72",
   "metadata": {
    "scrolled": true
   },
   "outputs": [
    {
     "data": {
      "image/png": "[encoded data removed]",
      "text/plain": [
       "<Figure size 640x480 with 1 Axes>"
      ]
     },
     "metadata": {},
     "output_type": "display_data"
    },
    {
     "name": "stdout",
     "output_type": "stream",
     "text": [
      "-> Phân phối thu nhập lệch phải, không đối xứng\n"
     ]
    }
   ],
   "source": [
    "import matplotlib.pyplot as plt\n",
    "plt.hist(df.ThuNhap, color = \"skyblue\")\n",
    "plt.show()\n",
    "print(\"-> Phân phối thu nhập lệch phải, không đối xứng\")"
   ]
  },
  {
   "cell_type": "code",
   "execution_count": 31,
   "id": "2aa631ad",
   "metadata": {},
   "outputs": [
    {
     "data": {
      "image/png": "[encoded data removed]",
      "text/plain": [
       "<Figure size 640x480 with 1 Axes>"
      ]
     },
     "metadata": {},
     "output_type": "display_data"
    }
   ],
   "source": [
    "df.ThuNhap.plot(kind='hist', title='Biểu đồ phân phối tần số cho Thu nhập');"
   ]
  },
  {
   "cell_type": "code",
   "execution_count": 32,
   "id": "47733813",
   "metadata": {},
   "outputs": [
    {
     "data": {
      "image/png": "[encoded data removed]",
      "text/plain": [
       "<Figure size 640x480 with 1 Axes>"
      ]
     },
     "metadata": {},
     "output_type": "display_data"
    }
   ],
   "source": [
    "#g. Vẽ biểu đồ thanh minh họa phân phối tần số của khu vực sống và đưa ra nhận xét.\n",
    "df.KhuVuc.value_counts().plot(kind='bar', title='Biểu đồ thanh cho khu vực');"
   ]
  },
  {
   "cell_type": "code",
   "execution_count": 35,
   "id": "6522eeb8",
   "metadata": {},
   "outputs": [
    {
     "data": {
      "image/png": "[encoded data removed]",
      "text/plain": [
       "<Figure size 640x480 with 1 Axes>"
      ]
     },
     "metadata": {},
     "output_type": "display_data"
    },
    {
     "data": {
      "image/png": "[encoded data removed]",
      "text/plain": [
       "<Figure size 640x480 with 1 Axes>"
      ]
     },
     "metadata": {},
     "output_type": "display_data"
    }
   ],
   "source": [
    "#Biểu đồ thanh cho giới tính theo khu vực\n",
    "gt_kv = pd.crosstab(df.KhuVuc, df.GioiTinh)\n",
    "gt_kv.plot(kind='bar', title='Biểu đồ thanh cho giới tính theo khu vực');\n",
    "\n",
    "#Biểu đồ thanh cho giới tính theo khu vực\n",
    "gt_kv = pd.crosstab(df.GioiTinh, df.KhuVuc)\n",
    "gt_kv.plot(kind='bar', title='Biểu đồ thanh cho khu vực theo giới tính');"
   ]
  },
  {
   "cell_type": "code",
   "execution_count": 38,
   "id": "a2d0e86e",
   "metadata": {},
   "outputs": [
    {
     "data": {
      "image/png": "[encoded data removed]",
      "text/plain": [
       "<Figure size 640x480 with 1 Axes>"
      ]
     },
     "metadata": {},
     "output_type": "display_data"
    }
   ],
   "source": [
    "#i. Biểu đồ tròn cho Khu vực\n",
    "df.KhuVuc.value_counts().plot(kind='pie', autopct='%0.1f', title='Biểu đồ tròn cho khu vực');"
   ]
  },
  {
   "cell_type": "code",
   "execution_count": 40,
   "id": "e1d637cf",
   "metadata": {},
   "outputs": [
    {
     "data": {
      "text/plain": [
       "<AxesSubplot:>"
      ]
     },
     "execution_count": 40,
     "metadata": {},
     "output_type": "execute_result"
    },
    {
     "data": {
      "image/png": "[encoded data removed]",
      "text/plain": [
       "<Figure size 640x480 with 1 Axes>"
      ]
     },
     "metadata": {},
     "output_type": "display_data"
    }
   ],
   "source": [
    "#Vẽ biểu đồ hộp cho cột thu nhập và nhận xét\n",
    "df.ThuNhap.plot(kind='box')\n",
    "#thong tin\n",
    "# - Q1 = 30, Q2=42, Q3=50\n",
    "# - Tập giá trị có giá trị ngoại biên bên phải\n",
    "# - Phân phối thu nhập không đối xứng, lệch phải\n",
    "# Biểu đồ hộp giúp vẽ được nhiều biểu đồ trên một hình, --> so sánh phân phối nhiều tập dữ liệu"
   ]
  },
  {
   "cell_type": "code",
   "execution_count": 41,
   "id": "00f76efe",
   "metadata": {},
   "outputs": [
    {
     "data": {
      "text/plain": [
       "count    100.000000\n",
       "mean      45.820000\n",
       "std       22.221284\n",
       "min       20.000000\n",
       "25%       30.000000\n",
       "50%       42.000000\n",
       "75%       50.000000\n",
       "max      100.000000\n",
       "Name: ThuNhap, dtype: float64"
      ]
     },
     "execution_count": 41,
     "metadata": {},
     "output_type": "execute_result"
    }
   ],
   "source": [
    "#Tính tứ phân vị của thu nhập và nhận xét\n",
    "df.ThuNhap.describe()"
   ]
  },
  {
   "cell_type": "code",
   "execution_count": null,
   "id": "82f611dc",
   "metadata": {},
   "outputs": [],
   "source": [
    "# Q1 = 30: Khoảng 30% số quan sát không vượt quá 30\n",
    "# Q2 = 42: Khoảng 50% số quan sát không vượt quá 42\n",
    "# Q3 = 50: Khoảng 75% số quan sát không vượt quá 50"
   ]
  },
  {
   "cell_type": "code",
   "execution_count": 42,
   "id": "edce0060",
   "metadata": {},
   "outputs": [
    {
     "data": {
      "text/plain": [
       "80.0"
      ]
     },
     "execution_count": 42,
     "metadata": {},
     "output_type": "execute_result"
    }
   ],
   "source": [
    "# Thu nhập thấp nhất trong nhóm 10% có thu nhập cao nhất là 80\n",
    "df.ThuNhap.quantile(0.9)"
   ]
  },
  {
   "cell_type": "code",
   "execution_count": 43,
   "id": "063605be",
   "metadata": {},
   "outputs": [
    {
     "data": {
      "text/html": [
       "<div>\n",
       "<style scoped>\n",
       "    .dataframe tbody tr th:only-of-type {\n",
       "        vertical-align: middle;\n",
       "    }\n",
       "\n",
       "    .dataframe tbody tr th {\n",
       "        vertical-align: top;\n",
       "    }\n",
       "\n",
       "    .dataframe thead th {\n",
       "        text-align: right;\n",
       "    }\n",
       "</style>\n",
       "<table border=\"1\" class=\"dataframe\">\n",
       "  <thead>\n",
       "    <tr style=\"text-align: right;\">\n",
       "      <th></th>\n",
       "      <th>Unnamed: 0.1</th>\n",
       "      <th>Unnamed: 0</th>\n",
       "      <th>hostel_name</th>\n",
       "      <th>City</th>\n",
       "      <th>price_from</th>\n",
       "      <th>Distance</th>\n",
       "      <th>summary_score</th>\n",
       "      <th>rating_band</th>\n",
       "      <th>atmosphere</th>\n",
       "      <th>cleanliness</th>\n",
       "      <th>facilities</th>\n",
       "      <th>location_y</th>\n",
       "      <th>security</th>\n",
       "      <th>staff</th>\n",
       "      <th>valueformoney</th>\n",
       "      <th>lon</th>\n",
       "      <th>lat</th>\n",
       "    </tr>\n",
       "  </thead>\n",
       "  <tbody>\n",
       "    <tr>\n",
       "      <th>0</th>\n",
       "      <td>0</td>\n",
       "      <td>1</td>\n",
       "      <td>\"Bike &amp; Bed\" CharinCo Hostel</td>\n",
       "      <td>Osaka</td>\n",
       "      <td>3300</td>\n",
       "      <td>2.9km from city centre</td>\n",
       "      <td>9.2</td>\n",
       "      <td>Superb</td>\n",
       "      <td>8.9</td>\n",
       "      <td>9.4</td>\n",
       "      <td>9.3</td>\n",
       "      <td>8.9</td>\n",
       "      <td>9.0</td>\n",
       "      <td>9.4</td>\n",
       "      <td>9.4</td>\n",
       "      <td>135.513767</td>\n",
       "      <td>34.682678</td>\n",
       "    </tr>\n",
       "    <tr>\n",
       "      <th>1</th>\n",
       "      <td>2</td>\n",
       "      <td>3</td>\n",
       "      <td>&amp;And Hostel Akihabara</td>\n",
       "      <td>Tokyo</td>\n",
       "      <td>3600</td>\n",
       "      <td>7.8km from city centre</td>\n",
       "      <td>8.7</td>\n",
       "      <td>Fabulous</td>\n",
       "      <td>8.0</td>\n",
       "      <td>7.0</td>\n",
       "      <td>9.0</td>\n",
       "      <td>8.0</td>\n",
       "      <td>10.0</td>\n",
       "      <td>10.0</td>\n",
       "      <td>9.0</td>\n",
       "      <td>139.777472</td>\n",
       "      <td>35.697447</td>\n",
       "    </tr>\n",
       "    <tr>\n",
       "      <th>2</th>\n",
       "      <td>3</td>\n",
       "      <td>4</td>\n",
       "      <td>&amp;And Hostel Ueno</td>\n",
       "      <td>Tokyo</td>\n",
       "      <td>2600</td>\n",
       "      <td>8.7km from city centre</td>\n",
       "      <td>7.4</td>\n",
       "      <td>Very Good</td>\n",
       "      <td>8.0</td>\n",
       "      <td>7.5</td>\n",
       "      <td>7.5</td>\n",
       "      <td>7.5</td>\n",
       "      <td>7.0</td>\n",
       "      <td>8.0</td>\n",
       "      <td>6.5</td>\n",
       "      <td>139.783667</td>\n",
       "      <td>35.712716</td>\n",
       "    </tr>\n",
       "    <tr>\n",
       "      <th>3</th>\n",
       "      <td>4</td>\n",
       "      <td>5</td>\n",
       "      <td>&amp;And Hostel-Asakusa North-</td>\n",
       "      <td>Tokyo</td>\n",
       "      <td>1500</td>\n",
       "      <td>10.5km from city centre</td>\n",
       "      <td>9.4</td>\n",
       "      <td>Superb</td>\n",
       "      <td>9.5</td>\n",
       "      <td>9.5</td>\n",
       "      <td>9.0</td>\n",
       "      <td>9.0</td>\n",
       "      <td>9.5</td>\n",
       "      <td>10.0</td>\n",
       "      <td>9.5</td>\n",
       "      <td>139.798371</td>\n",
       "      <td>35.727898</td>\n",
       "    </tr>\n",
       "    <tr>\n",
       "      <th>4</th>\n",
       "      <td>5</td>\n",
       "      <td>6</td>\n",
       "      <td>1night1980hostel Tokyo</td>\n",
       "      <td>Tokyo</td>\n",
       "      <td>2100</td>\n",
       "      <td>9.4km from city centre</td>\n",
       "      <td>7.0</td>\n",
       "      <td>Very Good</td>\n",
       "      <td>5.5</td>\n",
       "      <td>8.0</td>\n",
       "      <td>6.0</td>\n",
       "      <td>6.0</td>\n",
       "      <td>8.5</td>\n",
       "      <td>8.5</td>\n",
       "      <td>6.5</td>\n",
       "      <td>139.786950</td>\n",
       "      <td>35.724384</td>\n",
       "    </tr>\n",
       "    <tr>\n",
       "      <th>...</th>\n",
       "      <td>...</td>\n",
       "      <td>...</td>\n",
       "      <td>...</td>\n",
       "      <td>...</td>\n",
       "      <td>...</td>\n",
       "      <td>...</td>\n",
       "      <td>...</td>\n",
       "      <td>...</td>\n",
       "      <td>...</td>\n",
       "      <td>...</td>\n",
       "      <td>...</td>\n",
       "      <td>...</td>\n",
       "      <td>...</td>\n",
       "      <td>...</td>\n",
       "      <td>...</td>\n",
       "      <td>...</td>\n",
       "      <td>...</td>\n",
       "    </tr>\n",
       "    <tr>\n",
       "      <th>293</th>\n",
       "      <td>337</td>\n",
       "      <td>338</td>\n",
       "      <td>YADOYA Guesthouse Green</td>\n",
       "      <td>Tokyo</td>\n",
       "      <td>2300</td>\n",
       "      <td>2.6km from city centre</td>\n",
       "      <td>8.2</td>\n",
       "      <td>Fabulous</td>\n",
       "      <td>7.9</td>\n",
       "      <td>7.7</td>\n",
       "      <td>6.9</td>\n",
       "      <td>8.9</td>\n",
       "      <td>8.9</td>\n",
       "      <td>8.8</td>\n",
       "      <td>8.3</td>\n",
       "      <td>139.668125</td>\n",
       "      <td>35.702908</td>\n",
       "    </tr>\n",
       "    <tr>\n",
       "      <th>294</th>\n",
       "      <td>338</td>\n",
       "      <td>339</td>\n",
       "      <td>YADOYA Guesthouse Orange</td>\n",
       "      <td>Tokyo</td>\n",
       "      <td>2000</td>\n",
       "      <td>2.9km from city centre</td>\n",
       "      <td>8.9</td>\n",
       "      <td>Fabulous</td>\n",
       "      <td>8.6</td>\n",
       "      <td>9.0</td>\n",
       "      <td>7.8</td>\n",
       "      <td>9.4</td>\n",
       "      <td>9.0</td>\n",
       "      <td>9.2</td>\n",
       "      <td>9.4</td>\n",
       "      <td>139.667695</td>\n",
       "      <td>35.706513</td>\n",
       "    </tr>\n",
       "    <tr>\n",
       "      <th>295</th>\n",
       "      <td>339</td>\n",
       "      <td>340</td>\n",
       "      <td>YAWP! backpackers</td>\n",
       "      <td>Tokyo</td>\n",
       "      <td>2500</td>\n",
       "      <td>17.5km from city centre</td>\n",
       "      <td>9.3</td>\n",
       "      <td>Superb</td>\n",
       "      <td>9.5</td>\n",
       "      <td>9.3</td>\n",
       "      <td>9.4</td>\n",
       "      <td>8.5</td>\n",
       "      <td>9.5</td>\n",
       "      <td>9.2</td>\n",
       "      <td>9.6</td>\n",
       "      <td>139.869197</td>\n",
       "      <td>35.752885</td>\n",
       "    </tr>\n",
       "    <tr>\n",
       "      <th>296</th>\n",
       "      <td>340</td>\n",
       "      <td>341</td>\n",
       "      <td>You En Me House</td>\n",
       "      <td>Kyoto</td>\n",
       "      <td>2800</td>\n",
       "      <td>2.4km from city centre</td>\n",
       "      <td>8.0</td>\n",
       "      <td>Fabulous</td>\n",
       "      <td>7.3</td>\n",
       "      <td>8.0</td>\n",
       "      <td>6.7</td>\n",
       "      <td>8.0</td>\n",
       "      <td>8.7</td>\n",
       "      <td>10.0</td>\n",
       "      <td>7.3</td>\n",
       "      <td>135.749063</td>\n",
       "      <td>34.997376</td>\n",
       "    </tr>\n",
       "    <tr>\n",
       "      <th>297</th>\n",
       "      <td>341</td>\n",
       "      <td>342</td>\n",
       "      <td>Zabutton Hostel</td>\n",
       "      <td>Tokyo</td>\n",
       "      <td>2900</td>\n",
       "      <td>5.9km from city centre</td>\n",
       "      <td>8.6</td>\n",
       "      <td>Fabulous</td>\n",
       "      <td>8.1</td>\n",
       "      <td>8.5</td>\n",
       "      <td>7.8</td>\n",
       "      <td>9.0</td>\n",
       "      <td>8.9</td>\n",
       "      <td>9.5</td>\n",
       "      <td>8.5</td>\n",
       "      <td>139.742116</td>\n",
       "      <td>35.655470</td>\n",
       "    </tr>\n",
       "  </tbody>\n",
       "</table>\n",
       "<p>298 rows × 17 columns</p>\n",
       "</div>"
      ],
      "text/plain": [
       "     Unnamed: 0.1  Unnamed: 0                   hostel_name   City  \\\n",
       "0               0           1  \"Bike & Bed\" CharinCo Hostel  Osaka   \n",
       "1               2           3         &And Hostel Akihabara  Tokyo   \n",
       "2               3           4              &And Hostel Ueno  Tokyo   \n",
       "3               4           5    &And Hostel-Asakusa North-  Tokyo   \n",
       "4               5           6        1night1980hostel Tokyo  Tokyo   \n",
       "..            ...         ...                           ...    ...   \n",
       "293           337         338       YADOYA Guesthouse Green  Tokyo   \n",
       "294           338         339      YADOYA Guesthouse Orange  Tokyo   \n",
       "295           339         340             YAWP! backpackers  Tokyo   \n",
       "296           340         341               You En Me House  Kyoto   \n",
       "297           341         342               Zabutton Hostel  Tokyo   \n",
       "\n",
       "     price_from                 Distance  summary_score rating_band  \\\n",
       "0          3300   2.9km from city centre            9.2      Superb   \n",
       "1          3600   7.8km from city centre            8.7    Fabulous   \n",
       "2          2600   8.7km from city centre            7.4   Very Good   \n",
       "3          1500  10.5km from city centre            9.4      Superb   \n",
       "4          2100   9.4km from city centre            7.0   Very Good   \n",
       "..          ...                      ...            ...         ...   \n",
       "293        2300   2.6km from city centre            8.2    Fabulous   \n",
       "294        2000   2.9km from city centre            8.9    Fabulous   \n",
       "295        2500  17.5km from city centre            9.3      Superb   \n",
       "296        2800   2.4km from city centre            8.0    Fabulous   \n",
       "297        2900   5.9km from city centre            8.6    Fabulous   \n",
       "\n",
       "     atmosphere  cleanliness  facilities  location_y  security  staff  \\\n",
       "0           8.9          9.4         9.3         8.9       9.0    9.4   \n",
       "1           8.0          7.0         9.0         8.0      10.0   10.0   \n",
       "2           8.0          7.5         7.5         7.5       7.0    8.0   \n",
       "3           9.5          9.5         9.0         9.0       9.5   10.0   \n",
       "4           5.5          8.0         6.0         6.0       8.5    8.5   \n",
       "..          ...          ...         ...         ...       ...    ...   \n",
       "293         7.9          7.7         6.9         8.9       8.9    8.8   \n",
       "294         8.6          9.0         7.8         9.4       9.0    9.2   \n",
       "295         9.5          9.3         9.4         8.5       9.5    9.2   \n",
       "296         7.3          8.0         6.7         8.0       8.7   10.0   \n",
       "297         8.1          8.5         7.8         9.0       8.9    9.5   \n",
       "\n",
       "     valueformoney         lon        lat  \n",
       "0              9.4  135.513767  34.682678  \n",
       "1              9.0  139.777472  35.697447  \n",
       "2              6.5  139.783667  35.712716  \n",
       "3              9.5  139.798371  35.727898  \n",
       "4              6.5  139.786950  35.724384  \n",
       "..             ...         ...        ...  \n",
       "293            8.3  139.668125  35.702908  \n",
       "294            9.4  139.667695  35.706513  \n",
       "295            9.6  139.869197  35.752885  \n",
       "296            7.3  135.749063  34.997376  \n",
       "297            8.5  139.742116  35.655470  \n",
       "\n",
       "[298 rows x 17 columns]"
      ]
     },
     "execution_count": 43,
     "metadata": {},
     "output_type": "execute_result"
    }
   ],
   "source": [
    "data = pd.read_csv('hostel.csv')\n",
    "data"
   ]
  },
  {
   "cell_type": "markdown",
   "id": "1136febb",
   "metadata": {},
   "source": [
    "c. Tính tỷ lệ được đánh giá rating_band là Superb trong từng thành phố và cho\n",
    "nhận xét."
   ]
  },
  {
   "cell_type": "code",
   "execution_count": 44,
   "id": "b2658f57",
   "metadata": {},
   "outputs": [
    {
     "data": {
      "text/plain": [
       "0.5771812080536913"
      ]
     },
     "execution_count": 44,
     "metadata": {},
     "output_type": "execute_result"
    }
   ],
   "source": [
    "rate = data['rating_band']\n",
    "rate_superb = data[data['rating_band']=='Superb']\n",
    "rate_superb.shape[0]/len(rate)"
   ]
  },
  {
   "cell_type": "code",
   "execution_count": 46,
   "id": "4228e1e8",
   "metadata": {},
   "outputs": [
    {
     "data": {
      "text/html": [
       "<div>\n",
       "<style scoped>\n",
       "    .dataframe tbody tr th:only-of-type {\n",
       "        vertical-align: middle;\n",
       "    }\n",
       "\n",
       "    .dataframe tbody tr th {\n",
       "        vertical-align: top;\n",
       "    }\n",
       "\n",
       "    .dataframe thead th {\n",
       "        text-align: right;\n",
       "    }\n",
       "</style>\n",
       "<table border=\"1\" class=\"dataframe\">\n",
       "  <thead>\n",
       "    <tr style=\"text-align: right;\">\n",
       "      <th>City</th>\n",
       "      <th>Fukuoka-City</th>\n",
       "      <th>Hiroshima</th>\n",
       "      <th>Kyoto</th>\n",
       "      <th>Osaka</th>\n",
       "      <th>Tokyo</th>\n",
       "    </tr>\n",
       "    <tr>\n",
       "      <th>rating_band</th>\n",
       "      <th></th>\n",
       "      <th></th>\n",
       "      <th></th>\n",
       "      <th></th>\n",
       "      <th></th>\n",
       "    </tr>\n",
       "  </thead>\n",
       "  <tbody>\n",
       "    <tr>\n",
       "      <th>Fabulous</th>\n",
       "      <td>0.428571</td>\n",
       "      <td>0.230769</td>\n",
       "      <td>0.257576</td>\n",
       "      <td>0.337079</td>\n",
       "      <td>0.336207</td>\n",
       "    </tr>\n",
       "    <tr>\n",
       "      <th>Good</th>\n",
       "      <td>0.000000</td>\n",
       "      <td>0.000000</td>\n",
       "      <td>0.030303</td>\n",
       "      <td>0.044944</td>\n",
       "      <td>0.008621</td>\n",
       "    </tr>\n",
       "    <tr>\n",
       "      <th>Rating</th>\n",
       "      <td>0.000000</td>\n",
       "      <td>0.000000</td>\n",
       "      <td>0.030303</td>\n",
       "      <td>0.033708</td>\n",
       "      <td>0.008621</td>\n",
       "    </tr>\n",
       "    <tr>\n",
       "      <th>Superb</th>\n",
       "      <td>0.571429</td>\n",
       "      <td>0.769231</td>\n",
       "      <td>0.651515</td>\n",
       "      <td>0.528090</td>\n",
       "      <td>0.551724</td>\n",
       "    </tr>\n",
       "    <tr>\n",
       "      <th>Very Good</th>\n",
       "      <td>0.000000</td>\n",
       "      <td>0.000000</td>\n",
       "      <td>0.030303</td>\n",
       "      <td>0.056180</td>\n",
       "      <td>0.094828</td>\n",
       "    </tr>\n",
       "  </tbody>\n",
       "</table>\n",
       "</div>"
      ],
      "text/plain": [
       "City         Fukuoka-City  Hiroshima     Kyoto     Osaka     Tokyo\n",
       "rating_band                                                       \n",
       "Fabulous         0.428571   0.230769  0.257576  0.337079  0.336207\n",
       "Good             0.000000   0.000000  0.030303  0.044944  0.008621\n",
       "Rating           0.000000   0.000000  0.030303  0.033708  0.008621\n",
       "Superb           0.571429   0.769231  0.651515  0.528090  0.551724\n",
       "Very Good        0.000000   0.000000  0.030303  0.056180  0.094828"
      ]
     },
     "execution_count": 46,
     "metadata": {},
     "output_type": "execute_result"
    }
   ],
   "source": [
    "rt_sp = pd.crosstab(data.rating_band,data.City,normalize='columns')\n",
    "rt_sp"
   ]
  },
  {
   "cell_type": "markdown",
   "id": "d4c65d93",
   "metadata": {},
   "source": [
    "d. Biến giá nhà trọ (price_from) có giá trị ngoại biên không? Bạn chọn phân tổ đều hay không đều khi phân dữ liệu giá nhà thành các tổ. Phân tổ dữ liệu giá nhà theo cách lựa chọn của bạn"
   ]
  },
  {
   "cell_type": "code",
   "execution_count": 47,
   "id": "b37711b1",
   "metadata": {},
   "outputs": [
    {
     "data": {
      "text/plain": [
       "<AxesSubplot:>"
      ]
     },
     "execution_count": 47,
     "metadata": {},
     "output_type": "execute_result"
    },
    {
     "data": {
      "image/png": "[encoded data removed]",
      "text/plain": [
       "<Figure size 640x480 with 1 Axes>"
      ]
     },
     "metadata": {},
     "output_type": "display_data"
    }
   ],
   "source": [
    "data.price_from.plot(kind='box')"
   ]
  },
  {
   "cell_type": "code",
   "execution_count": 49,
   "id": "ab62427e",
   "metadata": {},
   "outputs": [
    {
     "name": "stdout",
     "output_type": "stream",
     "text": [
      "1000\n",
      "1003200\n"
     ]
    }
   ],
   "source": [
    "min = data.price_from.min()\n",
    "max = data.price_from.max()\n",
    "print(min)\n",
    "print(max)\n"
   ]
  },
  {
   "cell_type": "markdown",
   "id": "21164855",
   "metadata": {},
   "source": [
    "Nên Phân tổ không đều trong tập dữ liệu này"
   ]
  },
  {
   "cell_type": "code",
   "execution_count": null,
   "id": "a02ec43c",
   "metadata": {},
   "outputs": [],
   "source": [
    "pt_price = pd.cut(df.price_from, bins=[20, 30, 40, 50, 60, 70, 80, 90, 100])\n",
    "print(chia_tn1.value_counts()) "
   ]
  }
 ],
 "metadata": {
  "kernelspec": {
   "display_name": "Python 3 (ipykernel)",
   "language": "python",
   "name": "python3"
  },
  "language_info": {
   "codemirror_mode": {
    "name": "ipython",
    "version": 3
   },
   "file_extension": ".py",
   "mimetype": "text/x-python",
   "name": "python",
   "nbconvert_exporter": "python",
   "pygments_lexer": "ipython3",
   "version": "3.12.4"
  }
 },
 "nbformat": 4,
 "nbformat_minor": 5
}
