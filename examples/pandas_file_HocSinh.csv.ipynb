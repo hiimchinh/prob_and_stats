{
 "cells": [
  {
   "cell_type": "markdown",
   "id": "b6533a0e",
   "metadata": {},
   "source": [
    "#### Đọc dữ liệu từ những file có sẵn bằng pandas và truy cập dữ liệu "
   ]
  },
  {
   "cell_type": "markdown",
   "id": "7d53b3c8",
   "metadata": {},
   "source": [
    "#### Bài 4.\n",
    "File dữ liệu HocSinh.csv lưu thông tin của một nhóm học sinh về giới tính\n",
    "(GioiTinh), lớp (Lop), tuổi (Tuoi), nơi ở (NoiO), học lực (HocLuc), mức độ yêu\n",
    "thích thể thao (TheThao) và đánh giá hình thức (HinhThuc). Hãy lấy file dữ liệu\n",
    "và thực hiện các yêu cầu sau:\n",
    "\n",
    "a. Cho biết dữ liệu trong từng cột được đo bằng thang đo nào?\n",
    "\n",
    "b. Cho biết tập dữ liệu này có bao nhiêu cột, bao nhiêu dòng?\n",
    "\n",
    "c. Lấy ra dữ liệu ở cột thứ 3 (Tuoi).\n",
    "\n",
    "d. Lấy ra toàn bộ dữ liệu ở dòng thứ 10.\n",
    "\n",
    "e. Tính số học sinh nữ, nam.\n",
    "\n",
    "f. Tính tỷ lệ học sinh có mức độ yêu thích thể thao là 4. Tính tỷ lệ này trong nhóm\n",
    "học sinh nam, trong nhóm học sinh nữ."
   ]
  },
  {
   "cell_type": "code",
   "execution_count": 2,
   "id": "3b4d39df",
   "metadata": {},
   "outputs": [
    {
     "name": "stdout",
     "output_type": "stream",
     "text": [
      "D:\\Nhung\\BaiGiang\\XSTK-MA239\\Toan-Tin\\XSTK_TI\\SoanBaiTap_XSTK\\DuLieu\\Du_lieu\n"
     ]
    }
   ],
   "source": [
    "# Đọc dữ liệu vào python để thực hành\n",
    "# Nhập pandas\n",
    "import pandas as pd\n",
    "# Tạo đường dẫn đến thực mục chứa dữ liệu: python/dulieu\n",
    "% cd python/dulieu\n",
    "%cd D:\\Nhung\\BaiGiang\\XSTK-MA239\\Toan-Tin\\XSTK_TI\\SoanBaiTap_XSTK\\DuLieu\\Du_lieu"
   ]
  },
  {
   "cell_type": "code",
   "execution_count": 10,
   "id": "d2efcf06",
   "metadata": {},
   "outputs": [],
   "source": [
    "# đọc file HocSinh.csv bằng hàm read_csv() trong pandas\n",
    "df = pd.read_csv('HocSinh.csv')"
   ]
  },
  {
   "cell_type": "markdown",
   "id": "8f10bf4a",
   "metadata": {},
   "source": [
    "Để tìm hiểu về file dữ liệu, ta có thể sử dụng một trong các phương thức sau.\n",
    "\n",
    "- df.head() # hiển thị một số quan sát đầu\n",
    "- df.shape # cho dạng của bảng dữ liệu\n",
    "- df.columns # cho tên các cột\n",
    "- df.info() # cho thông tin các biến trong bảng dữ liệu"
   ]
  },
  {
   "cell_type": "code",
   "execution_count": 4,
   "id": "4cd055fb",
   "metadata": {},
   "outputs": [
    {
     "data": {
      "text/html": [
       "<div>\n",
       "<style scoped>\n",
       "    .dataframe tbody tr th:only-of-type {\n",
       "        vertical-align: middle;\n",
       "    }\n",
       "\n",
       "    .dataframe tbody tr th {\n",
       "        vertical-align: top;\n",
       "    }\n",
       "\n",
       "    .dataframe thead th {\n",
       "        text-align: right;\n",
       "    }\n",
       "</style>\n",
       "<table border=\"1\" class=\"dataframe\">\n",
       "  <thead>\n",
       "    <tr style=\"text-align: right;\">\n",
       "      <th></th>\n",
       "      <th>Unnamed: 0</th>\n",
       "      <th>GioiTinh</th>\n",
       "      <th>Lop</th>\n",
       "      <th>Tuoi</th>\n",
       "      <th>NoiO</th>\n",
       "      <th>HocLuc</th>\n",
       "      <th>TheThao</th>\n",
       "      <th>HinhThuc</th>\n",
       "    </tr>\n",
       "  </thead>\n",
       "  <tbody>\n",
       "    <tr>\n",
       "      <th>0</th>\n",
       "      <td>1</td>\n",
       "      <td>Nam</td>\n",
       "      <td>5</td>\n",
       "      <td>11</td>\n",
       "      <td>NgoaiO</td>\n",
       "      <td>1</td>\n",
       "      <td>2</td>\n",
       "      <td>4</td>\n",
       "    </tr>\n",
       "    <tr>\n",
       "      <th>1</th>\n",
       "      <td>2</td>\n",
       "      <td>Nam</td>\n",
       "      <td>5</td>\n",
       "      <td>10</td>\n",
       "      <td>NgoaiO</td>\n",
       "      <td>2</td>\n",
       "      <td>1</td>\n",
       "      <td>4</td>\n",
       "    </tr>\n",
       "    <tr>\n",
       "      <th>2</th>\n",
       "      <td>3</td>\n",
       "      <td>Nu</td>\n",
       "      <td>5</td>\n",
       "      <td>11</td>\n",
       "      <td>NgoaiO</td>\n",
       "      <td>4</td>\n",
       "      <td>3</td>\n",
       "      <td>1</td>\n",
       "    </tr>\n",
       "    <tr>\n",
       "      <th>3</th>\n",
       "      <td>4</td>\n",
       "      <td>Nu</td>\n",
       "      <td>5</td>\n",
       "      <td>11</td>\n",
       "      <td>NgoaiO</td>\n",
       "      <td>2</td>\n",
       "      <td>3</td>\n",
       "      <td>4</td>\n",
       "    </tr>\n",
       "    <tr>\n",
       "      <th>4</th>\n",
       "      <td>5</td>\n",
       "      <td>Nu</td>\n",
       "      <td>5</td>\n",
       "      <td>10</td>\n",
       "      <td>NgoaiO</td>\n",
       "      <td>4</td>\n",
       "      <td>2</td>\n",
       "      <td>1</td>\n",
       "    </tr>\n",
       "  </tbody>\n",
       "</table>\n",
       "</div>"
      ],
      "text/plain": [
       "   Unnamed: 0 GioiTinh  Lop  Tuoi    NoiO  HocLuc  TheThao  HinhThuc\n",
       "0           1      Nam    5    11  NgoaiO       1        2         4\n",
       "1           2      Nam    5    10  NgoaiO       2        1         4\n",
       "2           3       Nu    5    11  NgoaiO       4        3         1\n",
       "3           4       Nu    5    11  NgoaiO       2        3         4\n",
       "4           5       Nu    5    10  NgoaiO       4        2         1"
      ]
     },
     "execution_count": 4,
     "metadata": {},
     "output_type": "execute_result"
    }
   ],
   "source": [
    "df.head()"
   ]
  },
  {
   "cell_type": "code",
   "execution_count": 5,
   "id": "dafb3910",
   "metadata": {},
   "outputs": [
    {
     "data": {
      "text/plain": [
       "(475, 8)"
      ]
     },
     "execution_count": 5,
     "metadata": {},
     "output_type": "execute_result"
    }
   ],
   "source": [
    "df.shape"
   ]
  },
  {
   "cell_type": "code",
   "execution_count": 6,
   "id": "1765980b",
   "metadata": {},
   "outputs": [
    {
     "data": {
      "text/plain": [
       "Index(['Unnamed: 0', 'GioiTinh', 'Lop', 'Tuoi', 'NoiO', 'HocLuc', 'TheThao',\n",
       "       'HinhThuc'],\n",
       "      dtype='object')"
      ]
     },
     "execution_count": 6,
     "metadata": {},
     "output_type": "execute_result"
    }
   ],
   "source": [
    "df.columns"
   ]
  },
  {
   "cell_type": "code",
   "execution_count": 8,
   "id": "f5ed73c5",
   "metadata": {},
   "outputs": [
    {
     "name": "stdout",
     "output_type": "stream",
     "text": [
      "<class 'pandas.core.frame.DataFrame'>\n",
      "RangeIndex: 475 entries, 0 to 474\n",
      "Data columns (total 8 columns):\n",
      " #   Column      Non-Null Count  Dtype \n",
      "---  ------      --------------  ----- \n",
      " 0   Unnamed: 0  475 non-null    int64 \n",
      " 1   GioiTinh    475 non-null    object\n",
      " 2   Lop         475 non-null    int64 \n",
      " 3   Tuoi        475 non-null    int64 \n",
      " 4   NoiO        475 non-null    object\n",
      " 5   HocLuc      475 non-null    int64 \n",
      " 6   TheThao     475 non-null    int64 \n",
      " 7   HinhThuc    475 non-null    int64 \n",
      "dtypes: int64(6), object(2)\n",
      "memory usage: 29.8+ KB\n"
     ]
    }
   ],
   "source": [
    "df.info()"
   ]
  },
  {
   "cell_type": "markdown",
   "id": "aae5bf6c",
   "metadata": {},
   "source": [
    "#### Đưa một cột/biến trong file dữ liệu"
   ]
  },
  {
   "cell_type": "code",
   "execution_count": 11,
   "id": "3a4bcb4b",
   "metadata": {},
   "outputs": [
    {
     "data": {
      "text/plain": [
       "0      11\n",
       "1      10\n",
       "2      11\n",
       "3      11\n",
       "4      10\n",
       "       ..\n",
       "470    11\n",
       "471    11\n",
       "472    11\n",
       "473    11\n",
       "474    11\n",
       "Name: Tuoi, Length: 475, dtype: int64"
      ]
     },
     "execution_count": 11,
     "metadata": {},
     "output_type": "execute_result"
    }
   ],
   "source": [
    "#Đưa ra dữ liệu cột tuoi (cột thứ 3)\n",
    "df['Tuoi']"
   ]
  },
  {
   "cell_type": "code",
   "execution_count": 12,
   "id": "dcb2b7c6",
   "metadata": {},
   "outputs": [
    {
     "data": {
      "text/plain": [
       "0      11\n",
       "1      10\n",
       "2      11\n",
       "3      11\n",
       "4      10\n",
       "       ..\n",
       "470    11\n",
       "471    11\n",
       "472    11\n",
       "473    11\n",
       "474    11\n",
       "Name: Tuoi, Length: 475, dtype: int64"
      ]
     },
     "execution_count": 12,
     "metadata": {},
     "output_type": "execute_result"
    }
   ],
   "source": [
    "df.Tuoi"
   ]
  },
  {
   "cell_type": "code",
   "execution_count": 24,
   "id": "fd537714",
   "metadata": {},
   "outputs": [
    {
     "data": {
      "text/plain": [
       "0      11\n",
       "1      10\n",
       "2      11\n",
       "3      11\n",
       "4      10\n",
       "       ..\n",
       "470    11\n",
       "471    11\n",
       "472    11\n",
       "473    11\n",
       "474    11\n",
       "Name: Tuoi, Length: 475, dtype: int64"
      ]
     },
     "execution_count": 24,
     "metadata": {},
     "output_type": "execute_result"
    }
   ],
   "source": [
    "df.loc[:, 'Tuoi'] # lấy theo tên/nhãn của dòng và cột, cột là option"
   ]
  },
  {
   "cell_type": "code",
   "execution_count": 19,
   "id": "856fbae4",
   "metadata": {},
   "outputs": [
    {
     "data": {
      "text/plain": [
       "0      11\n",
       "1      10\n",
       "2      11\n",
       "3      11\n",
       "4      10\n",
       "       ..\n",
       "470    11\n",
       "471    11\n",
       "472    11\n",
       "473    11\n",
       "474    11\n",
       "Name: Tuoi, Length: 475, dtype: int64"
      ]
     },
     "execution_count": 19,
     "metadata": {},
     "output_type": "execute_result"
    }
   ],
   "source": [
    "df.iloc[:,3] #lấy theo chỉ số"
   ]
  },
  {
   "cell_type": "code",
   "execution_count": 26,
   "id": "642b9d83",
   "metadata": {},
   "outputs": [
    {
     "data": {
      "text/plain": [
       "10"
      ]
     },
     "execution_count": 26,
     "metadata": {},
     "output_type": "execute_result"
    }
   ],
   "source": [
    "df.iloc[1, 3]"
   ]
  },
  {
   "cell_type": "code",
   "execution_count": 27,
   "id": "27c5a595",
   "metadata": {},
   "outputs": [
    {
     "data": {
      "text/html": [
       "<div>\n",
       "<style scoped>\n",
       "    .dataframe tbody tr th:only-of-type {\n",
       "        vertical-align: middle;\n",
       "    }\n",
       "\n",
       "    .dataframe tbody tr th {\n",
       "        vertical-align: top;\n",
       "    }\n",
       "\n",
       "    .dataframe thead th {\n",
       "        text-align: right;\n",
       "    }\n",
       "</style>\n",
       "<table border=\"1\" class=\"dataframe\">\n",
       "  <thead>\n",
       "    <tr style=\"text-align: right;\">\n",
       "      <th></th>\n",
       "      <th>Unnamed: 0</th>\n",
       "      <th>GioiTinh</th>\n",
       "      <th>Lop</th>\n",
       "      <th>Tuoi</th>\n",
       "      <th>NoiO</th>\n",
       "      <th>HocLuc</th>\n",
       "      <th>TheThao</th>\n",
       "      <th>HinhThuc</th>\n",
       "    </tr>\n",
       "  </thead>\n",
       "  <tbody>\n",
       "    <tr>\n",
       "      <th>1</th>\n",
       "      <td>2</td>\n",
       "      <td>Nam</td>\n",
       "      <td>5</td>\n",
       "      <td>10</td>\n",
       "      <td>NgoaiO</td>\n",
       "      <td>2</td>\n",
       "      <td>1</td>\n",
       "      <td>4</td>\n",
       "    </tr>\n",
       "    <tr>\n",
       "      <th>3</th>\n",
       "      <td>4</td>\n",
       "      <td>Nu</td>\n",
       "      <td>5</td>\n",
       "      <td>11</td>\n",
       "      <td>NgoaiO</td>\n",
       "      <td>2</td>\n",
       "      <td>3</td>\n",
       "      <td>4</td>\n",
       "    </tr>\n",
       "  </tbody>\n",
       "</table>\n",
       "</div>"
      ],
      "text/plain": [
       "   Unnamed: 0 GioiTinh  Lop  Tuoi    NoiO  HocLuc  TheThao  HinhThuc\n",
       "1           2      Nam    5    10  NgoaiO       2        1         4\n",
       "3           4       Nu    5    11  NgoaiO       2        3         4"
      ]
     },
     "execution_count": 27,
     "metadata": {},
     "output_type": "execute_result"
    }
   ],
   "source": [
    "df.loc[[1, 3]] #không có tên cột nên lấy theo dòng"
   ]
  },
  {
   "cell_type": "code",
   "execution_count": 28,
   "id": "0698b729",
   "metadata": {},
   "outputs": [
    {
     "data": {
      "text/html": [
       "<div>\n",
       "<style scoped>\n",
       "    .dataframe tbody tr th:only-of-type {\n",
       "        vertical-align: middle;\n",
       "    }\n",
       "\n",
       "    .dataframe tbody tr th {\n",
       "        vertical-align: top;\n",
       "    }\n",
       "\n",
       "    .dataframe thead th {\n",
       "        text-align: right;\n",
       "    }\n",
       "</style>\n",
       "<table border=\"1\" class=\"dataframe\">\n",
       "  <thead>\n",
       "    <tr style=\"text-align: right;\">\n",
       "      <th></th>\n",
       "      <th>Unnamed: 0</th>\n",
       "      <th>GioiTinh</th>\n",
       "      <th>Lop</th>\n",
       "      <th>Tuoi</th>\n",
       "      <th>NoiO</th>\n",
       "      <th>HocLuc</th>\n",
       "      <th>TheThao</th>\n",
       "      <th>HinhThuc</th>\n",
       "    </tr>\n",
       "  </thead>\n",
       "  <tbody>\n",
       "    <tr>\n",
       "      <th>0</th>\n",
       "      <td>1</td>\n",
       "      <td>Nam</td>\n",
       "      <td>5</td>\n",
       "      <td>11</td>\n",
       "      <td>NgoaiO</td>\n",
       "      <td>1</td>\n",
       "      <td>2</td>\n",
       "      <td>4</td>\n",
       "    </tr>\n",
       "    <tr>\n",
       "      <th>2</th>\n",
       "      <td>3</td>\n",
       "      <td>Nu</td>\n",
       "      <td>5</td>\n",
       "      <td>11</td>\n",
       "      <td>NgoaiO</td>\n",
       "      <td>4</td>\n",
       "      <td>3</td>\n",
       "      <td>1</td>\n",
       "    </tr>\n",
       "    <tr>\n",
       "      <th>3</th>\n",
       "      <td>4</td>\n",
       "      <td>Nu</td>\n",
       "      <td>5</td>\n",
       "      <td>11</td>\n",
       "      <td>NgoaiO</td>\n",
       "      <td>2</td>\n",
       "      <td>3</td>\n",
       "      <td>4</td>\n",
       "    </tr>\n",
       "    <tr>\n",
       "      <th>5</th>\n",
       "      <td>6</td>\n",
       "      <td>Nu</td>\n",
       "      <td>5</td>\n",
       "      <td>11</td>\n",
       "      <td>NgoaiO</td>\n",
       "      <td>4</td>\n",
       "      <td>2</td>\n",
       "      <td>1</td>\n",
       "    </tr>\n",
       "    <tr>\n",
       "      <th>10</th>\n",
       "      <td>11</td>\n",
       "      <td>Nu</td>\n",
       "      <td>5</td>\n",
       "      <td>11</td>\n",
       "      <td>NgoaiO</td>\n",
       "      <td>2</td>\n",
       "      <td>3</td>\n",
       "      <td>1</td>\n",
       "    </tr>\n",
       "    <tr>\n",
       "      <th>...</th>\n",
       "      <td>...</td>\n",
       "      <td>...</td>\n",
       "      <td>...</td>\n",
       "      <td>...</td>\n",
       "      <td>...</td>\n",
       "      <td>...</td>\n",
       "      <td>...</td>\n",
       "      <td>...</td>\n",
       "    </tr>\n",
       "    <tr>\n",
       "      <th>470</th>\n",
       "      <td>471</td>\n",
       "      <td>Nam</td>\n",
       "      <td>6</td>\n",
       "      <td>11</td>\n",
       "      <td>NoiThanh</td>\n",
       "      <td>4</td>\n",
       "      <td>1</td>\n",
       "      <td>2</td>\n",
       "    </tr>\n",
       "    <tr>\n",
       "      <th>471</th>\n",
       "      <td>472</td>\n",
       "      <td>Nam</td>\n",
       "      <td>6</td>\n",
       "      <td>11</td>\n",
       "      <td>NoiThanh</td>\n",
       "      <td>4</td>\n",
       "      <td>1</td>\n",
       "      <td>2</td>\n",
       "    </tr>\n",
       "    <tr>\n",
       "      <th>472</th>\n",
       "      <td>473</td>\n",
       "      <td>Nam</td>\n",
       "      <td>6</td>\n",
       "      <td>11</td>\n",
       "      <td>NoiThanh</td>\n",
       "      <td>4</td>\n",
       "      <td>2</td>\n",
       "      <td>1</td>\n",
       "    </tr>\n",
       "    <tr>\n",
       "      <th>473</th>\n",
       "      <td>474</td>\n",
       "      <td>Nam</td>\n",
       "      <td>6</td>\n",
       "      <td>11</td>\n",
       "      <td>NoiThanh</td>\n",
       "      <td>4</td>\n",
       "      <td>1</td>\n",
       "      <td>3</td>\n",
       "    </tr>\n",
       "    <tr>\n",
       "      <th>474</th>\n",
       "      <td>475</td>\n",
       "      <td>Nam</td>\n",
       "      <td>6</td>\n",
       "      <td>11</td>\n",
       "      <td>NoiThanh</td>\n",
       "      <td>4</td>\n",
       "      <td>1</td>\n",
       "      <td>2</td>\n",
       "    </tr>\n",
       "  </tbody>\n",
       "</table>\n",
       "<p>189 rows × 8 columns</p>\n",
       "</div>"
      ],
      "text/plain": [
       "     Unnamed: 0 GioiTinh  Lop  Tuoi      NoiO  HocLuc  TheThao  HinhThuc\n",
       "0             1      Nam    5    11    NgoaiO       1        2         4\n",
       "2             3       Nu    5    11    NgoaiO       4        3         1\n",
       "3             4       Nu    5    11    NgoaiO       2        3         4\n",
       "5             6       Nu    5    11    NgoaiO       4        2         1\n",
       "10           11       Nu    5    11    NgoaiO       2        3         1\n",
       "..          ...      ...  ...   ...       ...     ...      ...       ...\n",
       "470         471      Nam    6    11  NoiThanh       4        1         2\n",
       "471         472      Nam    6    11  NoiThanh       4        1         2\n",
       "472         473      Nam    6    11  NoiThanh       4        2         1\n",
       "473         474      Nam    6    11  NoiThanh       4        1         3\n",
       "474         475      Nam    6    11  NoiThanh       4        1         2\n",
       "\n",
       "[189 rows x 8 columns]"
      ]
     },
     "execution_count": 28,
     "metadata": {},
     "output_type": "execute_result"
    }
   ],
   "source": [
    "df.loc[df.Tuoi == 11]"
   ]
  },
  {
   "cell_type": "code",
   "execution_count": 35,
   "id": "65746563",
   "metadata": {},
   "outputs": [
    {
     "data": {
      "text/plain": [
       "Unnamed: 0        10\n",
       "GioiTinh          Nu\n",
       "Lop                5\n",
       "Tuoi              10\n",
       "NoiO          NgoaiO\n",
       "HocLuc             4\n",
       "TheThao            3\n",
       "HinhThuc           2\n",
       "Name: 9, dtype: object"
      ]
     },
     "execution_count": 35,
     "metadata": {},
     "output_type": "execute_result"
    }
   ],
   "source": [
    "#d. Lấy dữ liệu dòng thứ 10\n",
    "df.loc[9, :]\n",
    "#hoặc\n",
    "df.loc[9]\n",
    "#hoặc\n",
    "df.iloc[9, :]"
   ]
  },
  {
   "cell_type": "code",
   "execution_count": 41,
   "id": "ebd6613d",
   "metadata": {},
   "outputs": [
    {
     "name": "stdout",
     "output_type": "stream",
     "text": [
      "So SV nam là: 227\n",
      "So SV nu là: 248\n"
     ]
    }
   ],
   "source": [
    "#e. Tính số học sinh nữ, nam.\n",
    "nam = df[df.GioiTinh == \"Nam\"]\n",
    "so_nam = nam.shape[0]\n",
    "print('So SV nam là:', so_nam)\n",
    "nu = df[df.GioiTinh == \"Nu\"]\n",
    "so_nu = nu.shape[0]\n",
    "print('So SV nu là:', so_nu)"
   ]
  },
  {
   "cell_type": "code",
   "execution_count": 51,
   "id": "e5945b2d",
   "metadata": {},
   "outputs": [
    {
     "name": "stdout",
     "output_type": "stream",
     "text": [
      "Ty le hoc sinh yeu the thao muc 4 la: 0.0968421052631579\n",
      "Ty le nam yeu thich the thao 4 la: 0.039647577092511016\n",
      "Ty le nu yeu thich the thao 4 la: 0.14919354838709678\n"
     ]
    }
   ],
   "source": [
    "#f. Tính tỷ lệ học sinh có mức độ yêu thích thể thao là 4.\n",
    "muc_4 = df[df.TheThao == 4].shape[0]\n",
    "so_hs = df.shape[0]\n",
    "ty_le_4 = muc_4/so_hs\n",
    "print('Ty le hoc sinh yeu the thao muc 4 la:', ty_le_4)\n",
    "\n",
    "#Tính tỷ lệ này trong nhóm học sinh nam, trong nhóm học sinh nữ.\n",
    "nam_4 = df[(df.GioiTinh==\"Nam\") & (df.TheThao==4)].shape[0]\n",
    "ty_le_nam_4 = nam_4/so_nam\n",
    "print('Ty le nam yeu thich the thao 4 la:', ty_le_nam_4)\n",
    "\n",
    "nu_4 = df[(df.GioiTinh==\"Nu\") & (df.TheThao==4)].shape[0]\n",
    "ty_le_nu_4 = nu_4/so_nu\n",
    "print('Ty le nu yeu thich the thao 4 la:', ty_le_nu_4)"
   ]
  },
  {
   "cell_type": "code",
   "execution_count": null,
   "id": "9fde4e5e",
   "metadata": {},
   "outputs": [],
   "source": []
  }
 ],
 "metadata": {
  "kernelspec": {
   "display_name": "Python 3 (ipykernel)",
   "language": "python",
   "name": "python3"
  },
  "language_info": {
   "codemirror_mode": {
    "name": "ipython",
    "version": 3
   },
   "file_extension": ".py",
   "mimetype": "text/x-python",
   "name": "python",
   "nbconvert_exporter": "python",
   "pygments_lexer": "ipython3",
   "version": "3.9.13"
  }
 },
 "nbformat": 4,
 "nbformat_minor": 5
}
