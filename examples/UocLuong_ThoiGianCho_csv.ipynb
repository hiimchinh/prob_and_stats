{
 "cells": [
  {
   "cell_type": "code",
   "execution_count": 5,
   "id": "ec3de2f5",
   "metadata": {},
   "outputs": [],
   "source": [
    "import pandas as pd\n",
    "import numpy as np\n",
    "import scipy.stats as ss"
   ]
  },
  {
   "cell_type": "code",
   "execution_count": 2,
   "id": "351626fb",
   "metadata": {},
   "outputs": [
    {
     "name": "stdout",
     "output_type": "stream",
     "text": [
      "D:\\Nhung\\BaiGiang\\XSTK-MA239\\Toan-Tin\\XSTK_TI\\SoanBaiTap_XSTK\\DuLieu\\Du_lieu\n"
     ]
    }
   ],
   "source": [
    "%cd D:\\Nhung\\BaiGiang\\XSTK-MA239\\Toan-Tin\\XSTK_TI\\SoanBaiTap_XSTK\\DuLieu\\Du_lieu"
   ]
  },
  {
   "cell_type": "code",
   "execution_count": 14,
   "id": "cc181eee",
   "metadata": {},
   "outputs": [
    {
     "data": {
      "text/html": [
       "<div>\n",
       "<style scoped>\n",
       "    .dataframe tbody tr th:only-of-type {\n",
       "        vertical-align: middle;\n",
       "    }\n",
       "\n",
       "    .dataframe tbody tr th {\n",
       "        vertical-align: top;\n",
       "    }\n",
       "\n",
       "    .dataframe thead th {\n",
       "        text-align: right;\n",
       "    }\n",
       "</style>\n",
       "<table border=\"1\" class=\"dataframe\">\n",
       "  <thead>\n",
       "    <tr style=\"text-align: right;\">\n",
       "      <th></th>\n",
       "      <th>ThoiGian</th>\n",
       "    </tr>\n",
       "  </thead>\n",
       "  <tbody>\n",
       "    <tr>\n",
       "      <th>0</th>\n",
       "      <td>1.6</td>\n",
       "    </tr>\n",
       "    <tr>\n",
       "      <th>1</th>\n",
       "      <td>6.6</td>\n",
       "    </tr>\n",
       "    <tr>\n",
       "      <th>2</th>\n",
       "      <td>5.6</td>\n",
       "    </tr>\n",
       "    <tr>\n",
       "      <th>3</th>\n",
       "      <td>5.1</td>\n",
       "    </tr>\n",
       "    <tr>\n",
       "      <th>4</th>\n",
       "      <td>3.9</td>\n",
       "    </tr>\n",
       "  </tbody>\n",
       "</table>\n",
       "</div>"
      ],
      "text/plain": [
       "   ThoiGian\n",
       "0       1.6\n",
       "1       6.6\n",
       "2       5.6\n",
       "3       5.1\n",
       "4       3.9"
      ]
     },
     "execution_count": 14,
     "metadata": {},
     "output_type": "execute_result"
    }
   ],
   "source": [
    "df = pd.read_csv('ThoiGianCho.csv')\n",
    "df.head()"
   ]
  },
  {
   "cell_type": "markdown",
   "id": "842ac611",
   "metadata": {},
   "source": [
    "Bài 254. Tại một ngân hàng, người ta muốn cải tiến hệ thống phục vụ để làm giảm\n",
    "thời gian chờ của khách hàng đến giao dịch. Hiện tại trung bình mỗi lượt khách\n",
    "hàng phải chờ từ 9 đến 10 phút. Họ tiến hành thử nghiệm hệ thống mới trong vòng\n",
    "một tháng. Trong một tháng này 100 lượt khách hàng được chọn ngẫu nhiên, thời\n",
    "gian chờ của những người trong mẫu được lưu trong file ThoiGianCho.csv (đơn\n",
    "vị: phút).\n",
    "\n",
    "a. Tìm thời gian chờ trung bình của tất cả các lượt khách\n",
    "hàng khi ngân hàng dùng hệ thống mới.\n",
    "\n",
    "b. Tìm khoảng tin cậy 99% cho thời gian chờ trung bình của các lượt khách hàng\n",
    "khi ngân hàng dùng hệ thống mới."
   ]
  },
  {
   "cell_type": "code",
   "execution_count": 6,
   "id": "60991d53",
   "metadata": {},
   "outputs": [
    {
     "data": {
      "text/plain": [
       "5.459999999999999"
      ]
     },
     "execution_count": 6,
     "metadata": {},
     "output_type": "execute_result"
    }
   ],
   "source": [
    "#a. Ước lượng điểm cho thời gian chờ trung bình của khách hàng\n",
    "df.ThoiGian.mean()"
   ]
  },
  {
   "cell_type": "code",
   "execution_count": 12,
   "id": "019704c6",
   "metadata": {},
   "outputs": [
    {
     "data": {
      "text/plain": [
       "ConfidenceInterval(low=4.809845077496016, high=6.110154922503982)"
      ]
     },
     "execution_count": 12,
     "metadata": {},
     "output_type": "execute_result"
    }
   ],
   "source": [
    "#b. Khoảng tin cậy 99% cho thời gian chờ trung bình của khách hàng:\n",
    "test = ss.ttest_1samp(df.ThoiGian, popmean=0)\n",
    "test.confidence_interval(confidence_level=0.99)"
   ]
  },
  {
   "cell_type": "code",
   "execution_count": 15,
   "id": "50f701a9",
   "metadata": {},
   "outputs": [
    {
     "data": {
      "text/plain": [
       "(4.809972547549653, 6.110027452450345)"
      ]
     },
     "execution_count": 15,
     "metadata": {},
     "output_type": "execute_result"
    }
   ],
   "source": [
    "# Cách khác dùng hàm t.interval()\n",
    "ss.t.interval(confidence=0.99, df=len(df.ThoiGian), loc=df.ThoiGian.mean(), \n",
    "              scale=ss.sem(df.ThoiGian))"
   ]
  },
  {
   "cell_type": "markdown",
   "id": "c6e908b5",
   "metadata": {},
   "source": [
    "Bài 255. Sử dụng file ThoiGianCho.csv hãy thực hiện các yêu cầu sau:\n",
    "\n",
    "a. Tìm tỷ lệ lượt khách hàng phải chờ ít hơn 6 phút.\n",
    "\n",
    "b. Tìm khoảng tin cậy 90% cho tỷ lệ lượt khách hàng phải chờ ít hơn 6 phút."
   ]
  },
  {
   "cell_type": "code",
   "execution_count": 19,
   "id": "d6bc603f",
   "metadata": {},
   "outputs": [
    {
     "name": "stdout",
     "output_type": "stream",
     "text": [
      "Số lượt khách hàng chờ ít hơn 6 phút 60\n",
      "Tỷ lệ lượt khách hàng chờ ít hơn 6 phút 0.6\n"
     ]
    }
   ],
   "source": [
    "#a. tỷ lệ lượt khách hàng chờ < 6 phút\n",
    "so_it_6 = df[df.ThoiGian<6].shape[0]\n",
    "so_khach = df.shape[0]\n",
    "print('Số lượt khách hàng chờ ít hơn 6 phút:', so_it_6 )\n",
    "print('Tỷ lệ lượt khách hàng chờ ít hơn 6 phút:', so_it_6/so_khach )"
   ]
  },
  {
   "cell_type": "code",
   "execution_count": null,
   "id": "096eda3b",
   "metadata": {},
   "outputs": [],
   "source": [
    "#b. Tìm khoảng tin cậy 90% cho tỷ lệ lượt khách hàng phải chờ ít hơn 6 phút"
   ]
  },
  {
   "cell_type": "code",
   "execution_count": 21,
   "id": "9df34315",
   "metadata": {},
   "outputs": [],
   "source": [
    "from statsmodels.stats.proportion import proportion_confint"
   ]
  },
  {
   "cell_type": "markdown",
   "id": "2e0e947f",
   "metadata": {},
   "source": [
    "Chúng ta có thể sử dụng hàm proportion_confint trong gói statsmodels.stats.proportion\n",
    "để tính khoảng tin cậy cho tỷ lệ tổng thể.\n",
    "\n",
    "proportion_confint(count, nobs, alpha=0.05, method=’normal’)\n",
    "\n",
    "trong đó\n",
    "count: số lần \"thành công\".\n",
    "nobs: số lần thử nghiệm.\n",
    "conf.level: mức ý nghĩa, mặc định là 0.05.\n",
    "method phương pháp sử dụng tìm khoảng tin cậy, bao gồm\n",
    "- ‘normal‘ : asymptotic normal approximation\n",
    "- ‘binom_test‘ : experimental, inversion of binom_test"
   ]
  },
  {
   "cell_type": "code",
   "execution_count": 22,
   "id": "850af889",
   "metadata": {},
   "outputs": [
    {
     "data": {
      "text/plain": [
       "(0.5194189582480532, 0.6805810417519468)"
      ]
     },
     "execution_count": 22,
     "metadata": {},
     "output_type": "execute_result"
    }
   ],
   "source": [
    "proportion_confint(count=so_it_6, nobs=so_khach, alpha=0.1, method='normal')"
   ]
  }
 ],
 "metadata": {
  "kernelspec": {
   "display_name": "Python 3 (ipykernel)",
   "language": "python",
   "name": "python3"
  },
  "language_info": {
   "codemirror_mode": {
    "name": "ipython",
    "version": 3
   },
   "file_extension": ".py",
   "mimetype": "text/x-python",
   "name": "python",
   "nbconvert_exporter": "python",
   "pygments_lexer": "ipython3",
   "version": "3.11.7"
  }
 },
 "nbformat": 4,
 "nbformat_minor": 5
}
