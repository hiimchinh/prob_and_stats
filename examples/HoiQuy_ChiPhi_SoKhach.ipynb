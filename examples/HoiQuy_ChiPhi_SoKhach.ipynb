{
 "cells": [
  {
   "cell_type": "code",
   "execution_count": 1,
   "id": "a09e161e",
   "metadata": {},
   "outputs": [],
   "source": [
    "import numpy as np\n",
    "import pandas as pd\n",
    "import statsmodels.api as sm\n",
    "from sklearn.linear_model import LinearRegression"
   ]
  },
  {
   "cell_type": "code",
   "execution_count": 2,
   "id": "762ad305",
   "metadata": {},
   "outputs": [
    {
     "name": "stdout",
     "output_type": "stream",
     "text": [
      "    so_khach  chi_phi\n",
      "0         61     4.28\n",
      "1         63     4.08\n",
      "2         67     4.42\n",
      "3         69     4.17\n",
      "4         70     4.48\n",
      "5         74     4.30\n",
      "6         76     4.82\n",
      "7         81     4.70\n",
      "8         86     5.11\n",
      "9         91     5.13\n",
      "10        95     5.64\n",
      "11        97     5.56\n"
     ]
    }
   ],
   "source": [
    "data = {'so_khach': [61, 63, 67, 69, 70, 74, 76, 81, 86, 91, 95, 97],\n",
    "        'chi_phi': [4.280, 4.080, 4.420, 4.170, 4.480, 4.300, \n",
    "                     4.820, 4.700, 5.110, 5.130, 5.640, 5.560]\n",
    "       }\n",
    "df = pd.DataFrame(data)\n",
    "print(df)"
   ]
  },
  {
   "cell_type": "code",
   "execution_count": 3,
   "id": "8d2f7d33",
   "metadata": {
    "scrolled": true
   },
   "outputs": [
    {
     "name": "stderr",
     "output_type": "stream",
     "text": [
      "C:\\Users\\Nhung\\anaconda3\\Lib\\site-packages\\scipy\\stats\\_stats_py.py:1806: UserWarning: kurtosistest only valid for n>=20 ... continuing anyway, n=12\n",
      "  warnings.warn(\"kurtosistest only valid for n>=20 ... continuing \"\n"
     ]
    },
    {
     "data": {
      "text/html": [
       "<table class=\"simpletable\">\n",
       "<caption>OLS Regression Results</caption>\n",
       "<tr>\n",
       "  <th>Dep. Variable:</th>         <td>chi_phi</td>     <th>  R-squared:         </th> <td>   0.899</td>\n",
       "</tr>\n",
       "<tr>\n",
       "  <th>Model:</th>                   <td>OLS</td>       <th>  Adj. R-squared:    </th> <td>   0.889</td>\n",
       "</tr>\n",
       "<tr>\n",
       "  <th>Method:</th>             <td>Least Squares</td>  <th>  F-statistic:       </th> <td>   89.09</td>\n",
       "</tr>\n",
       "<tr>\n",
       "  <th>Date:</th>             <td>Thu, 23 May 2024</td> <th>  Prob (F-statistic):</th> <td>2.69e-06</td>\n",
       "</tr>\n",
       "<tr>\n",
       "  <th>Time:</th>                 <td>08:38:21</td>     <th>  Log-Likelihood:    </th> <td>  4.8312</td>\n",
       "</tr>\n",
       "<tr>\n",
       "  <th>No. Observations:</th>      <td>    12</td>      <th>  AIC:               </th> <td>  -5.662</td>\n",
       "</tr>\n",
       "<tr>\n",
       "  <th>Df Residuals:</th>          <td>    10</td>      <th>  BIC:               </th> <td>  -4.693</td>\n",
       "</tr>\n",
       "<tr>\n",
       "  <th>Df Model:</th>              <td>     1</td>      <th>                     </th>     <td> </td>   \n",
       "</tr>\n",
       "<tr>\n",
       "  <th>Covariance Type:</th>      <td>nonrobust</td>    <th>                     </th>     <td> </td>   \n",
       "</tr>\n",
       "</table>\n",
       "<table class=\"simpletable\">\n",
       "<tr>\n",
       "      <td></td>        <th>coef</th>     <th>std err</th>      <th>t</th>      <th>P>|t|</th>  <th>[0.025</th>    <th>0.975]</th>  \n",
       "</tr>\n",
       "<tr>\n",
       "  <th>const</th>    <td>    1.5698</td> <td>    0.338</td> <td>    4.643</td> <td> 0.001</td> <td>    0.816</td> <td>    2.323</td>\n",
       "</tr>\n",
       "<tr>\n",
       "  <th>so_khach</th> <td>    0.0407</td> <td>    0.004</td> <td>    9.439</td> <td> 0.000</td> <td>    0.031</td> <td>    0.050</td>\n",
       "</tr>\n",
       "</table>\n",
       "<table class=\"simpletable\">\n",
       "<tr>\n",
       "  <th>Omnibus:</th>       <td> 1.556</td> <th>  Durbin-Watson:     </th> <td>   2.962</td>\n",
       "</tr>\n",
       "<tr>\n",
       "  <th>Prob(Omnibus):</th> <td> 0.459</td> <th>  Jarque-Bera (JB):  </th> <td>   0.872</td>\n",
       "</tr>\n",
       "<tr>\n",
       "  <th>Skew:</th>          <td>-0.253</td> <th>  Prob(JB):          </th> <td>   0.647</td>\n",
       "</tr>\n",
       "<tr>\n",
       "  <th>Kurtosis:</th>      <td> 1.780</td> <th>  Cond. No.          </th> <td>    518.</td>\n",
       "</tr>\n",
       "</table><br/><br/>Notes:<br/>[1] Standard Errors assume that the covariance matrix of the errors is correctly specified."
      ],
      "text/latex": [
       "\\begin{center}\n",
       "\\begin{tabular}{lclc}\n",
       "\\toprule\n",
       "\\textbf{Dep. Variable:}    &     chi\\_phi     & \\textbf{  R-squared:         } &     0.899   \\\\\n",
       "\\textbf{Model:}            &       OLS        & \\textbf{  Adj. R-squared:    } &     0.889   \\\\\n",
       "\\textbf{Method:}           &  Least Squares   & \\textbf{  F-statistic:       } &     89.09   \\\\\n",
       "\\textbf{Date:}             & Thu, 23 May 2024 & \\textbf{  Prob (F-statistic):} &  2.69e-06   \\\\\n",
       "\\textbf{Time:}             &     08:38:21     & \\textbf{  Log-Likelihood:    } &    4.8312   \\\\\n",
       "\\textbf{No. Observations:} &          12      & \\textbf{  AIC:               } &    -5.662   \\\\\n",
       "\\textbf{Df Residuals:}     &          10      & \\textbf{  BIC:               } &    -4.693   \\\\\n",
       "\\textbf{Df Model:}         &           1      & \\textbf{                     } &             \\\\\n",
       "\\textbf{Covariance Type:}  &    nonrobust     & \\textbf{                     } &             \\\\\n",
       "\\bottomrule\n",
       "\\end{tabular}\n",
       "\\begin{tabular}{lcccccc}\n",
       "                   & \\textbf{coef} & \\textbf{std err} & \\textbf{t} & \\textbf{P$> |$t$|$} & \\textbf{[0.025} & \\textbf{0.975]}  \\\\\n",
       "\\midrule\n",
       "\\textbf{const}     &       1.5698  &        0.338     &     4.643  &         0.001        &        0.816    &        2.323     \\\\\n",
       "\\textbf{so\\_khach} &       0.0407  &        0.004     &     9.439  &         0.000        &        0.031    &        0.050     \\\\\n",
       "\\bottomrule\n",
       "\\end{tabular}\n",
       "\\begin{tabular}{lclc}\n",
       "\\textbf{Omnibus:}       &  1.556 & \\textbf{  Durbin-Watson:     } &    2.962  \\\\\n",
       "\\textbf{Prob(Omnibus):} &  0.459 & \\textbf{  Jarque-Bera (JB):  } &    0.872  \\\\\n",
       "\\textbf{Skew:}          & -0.253 & \\textbf{  Prob(JB):          } &    0.647  \\\\\n",
       "\\textbf{Kurtosis:}      &  1.780 & \\textbf{  Cond. No.          } &     518.  \\\\\n",
       "\\bottomrule\n",
       "\\end{tabular}\n",
       "%\\caption{OLS Regression Results}\n",
       "\\end{center}\n",
       "\n",
       "Notes: \\newline\n",
       " [1] Standard Errors assume that the covariance matrix of the errors is correctly specified."
      ],
      "text/plain": [
       "<class 'statsmodels.iolib.summary.Summary'>\n",
       "\"\"\"\n",
       "                            OLS Regression Results                            \n",
       "==============================================================================\n",
       "Dep. Variable:                chi_phi   R-squared:                       0.899\n",
       "Model:                            OLS   Adj. R-squared:                  0.889\n",
       "Method:                 Least Squares   F-statistic:                     89.09\n",
       "Date:                Thu, 23 May 2024   Prob (F-statistic):           2.69e-06\n",
       "Time:                        08:38:21   Log-Likelihood:                 4.8312\n",
       "No. Observations:                  12   AIC:                            -5.662\n",
       "Df Residuals:                      10   BIC:                            -4.693\n",
       "Df Model:                           1                                         \n",
       "Covariance Type:            nonrobust                                         \n",
       "==============================================================================\n",
       "                 coef    std err          t      P>|t|      [0.025      0.975]\n",
       "------------------------------------------------------------------------------\n",
       "const          1.5698      0.338      4.643      0.001       0.816       2.323\n",
       "so_khach       0.0407      0.004      9.439      0.000       0.031       0.050\n",
       "==============================================================================\n",
       "Omnibus:                        1.556   Durbin-Watson:                   2.962\n",
       "Prob(Omnibus):                  0.459   Jarque-Bera (JB):                0.872\n",
       "Skew:                          -0.253   Prob(JB):                        0.647\n",
       "Kurtosis:                       1.780   Cond. No.                         518.\n",
       "==============================================================================\n",
       "\n",
       "Notes:\n",
       "[1] Standard Errors assume that the covariance matrix of the errors is correctly specified.\n",
       "\"\"\""
      ]
     },
     "execution_count": 3,
     "metadata": {},
     "output_type": "execute_result"
    }
   ],
   "source": [
    "# Thực hiện hồi quy trong statsmodels\n",
    "so_khach = sm.add_constant(df.so_khach)\n",
    "model = sm.OLS(df.chi_phi, so_khach).fit()\n",
    "model.summary()"
   ]
  },
  {
   "cell_type": "markdown",
   "id": "80be8fec",
   "metadata": {},
   "source": [
    "#### Kết quả\n",
    "Từ những kết quả trên ta có:\n",
    "- Mô hình ước lượng (mô hình hồi quy mẫu) của chi phí theo số khách:\n",
    " $$\\hat{Y} = 1.5698 + 0.0407*X$$\n",
    "- Hệ số xác định của mô hình là $R^2 = R-squared = 0.899$\n",
    "- Khoảng tin cậy 95% cho hệ số góc của mô hình:\n",
    "\n",
    "so_khach: [0.025, 0.975] = [0.031, 0.050]\n",
    "\n",
    "- Bài toán kiểm định sự có ý nghĩa của mô hình:\n",
    "$H_0: \\beta_1 = 0$ và $H_1: \\beta_1 \\ne 0$\n",
    "\n",
    "có p-giá trị là: P>|t| < 0.001 (vì kết quả cho 0.000 đến 3 chữ số sau dấu phảy vẫn là 0 nên nhỏ hơn 0.001 ). Từ đó p-giá trị < 0.05 nên bác bỏ H0 hay mô hình hồi quy có ý nghĩa."
   ]
  },
  {
   "cell_type": "code",
   "execution_count": 7,
   "id": "75a3e093",
   "metadata": {},
   "outputs": [
    {
     "data": {
      "text/plain": [
       "array([4.62241267])"
      ]
     },
     "execution_count": 7,
     "metadata": {},
     "output_type": "execute_result"
    }
   ],
   "source": [
    "# Dự báo cho chi phí khi số khách bằng 75\n",
    "# Khi số khách là 75 thì chi phí chuyến bay là $4622.4\n",
    "model.predict([1, 75])"
   ]
  },
  {
   "cell_type": "code",
   "execution_count": 8,
   "id": "faa7750f",
   "metadata": {},
   "outputs": [
    {
     "data": {
      "text/html": [
       "<div>\n",
       "<style scoped>\n",
       "    .dataframe tbody tr th:only-of-type {\n",
       "        vertical-align: middle;\n",
       "    }\n",
       "\n",
       "    .dataframe tbody tr th {\n",
       "        vertical-align: top;\n",
       "    }\n",
       "\n",
       "    .dataframe thead th {\n",
       "        text-align: right;\n",
       "    }\n",
       "</style>\n",
       "<table border=\"1\" class=\"dataframe\">\n",
       "  <thead>\n",
       "    <tr style=\"text-align: right;\">\n",
       "      <th></th>\n",
       "      <th>0</th>\n",
       "      <th>1</th>\n",
       "    </tr>\n",
       "  </thead>\n",
       "  <tbody>\n",
       "    <tr>\n",
       "      <th>const</th>\n",
       "      <td>1.548055</td>\n",
       "      <td>1.591531</td>\n",
       "    </tr>\n",
       "    <tr>\n",
       "      <th>so_khach</th>\n",
       "      <td>0.040424</td>\n",
       "      <td>0.040979</td>\n",
       "    </tr>\n",
       "  </tbody>\n",
       "</table>\n",
       "</div>"
      ],
      "text/plain": [
       "                 0         1\n",
       "const     1.548055  1.591531\n",
       "so_khach  0.040424  0.040979"
      ]
     },
     "execution_count": 8,
     "metadata": {},
     "output_type": "execute_result"
    }
   ],
   "source": [
    "# Khoảng tin cậy 95% cho hệ số góc:\n",
    "model.conf_int(0.95)"
   ]
  },
  {
   "cell_type": "code",
   "execution_count": 7,
   "id": "5762b9c9",
   "metadata": {},
   "outputs": [
    {
     "data": {
      "text/html": [
       "<div>\n",
       "<style scoped>\n",
       "    .dataframe tbody tr th:only-of-type {\n",
       "        vertical-align: middle;\n",
       "    }\n",
       "\n",
       "    .dataframe tbody tr th {\n",
       "        vertical-align: top;\n",
       "    }\n",
       "\n",
       "    .dataframe thead th {\n",
       "        text-align: right;\n",
       "    }\n",
       "</style>\n",
       "<table border=\"1\" class=\"dataframe\">\n",
       "  <thead>\n",
       "    <tr style=\"text-align: right;\">\n",
       "      <th></th>\n",
       "      <th>0</th>\n",
       "      <th>1</th>\n",
       "    </tr>\n",
       "  </thead>\n",
       "  <tbody>\n",
       "    <tr>\n",
       "      <th>const</th>\n",
       "      <td>1.526217</td>\n",
       "      <td>1.613368</td>\n",
       "    </tr>\n",
       "    <tr>\n",
       "      <th>so_khach</th>\n",
       "      <td>0.040146</td>\n",
       "      <td>0.041257</td>\n",
       "    </tr>\n",
       "  </tbody>\n",
       "</table>\n",
       "</div>"
      ],
      "text/plain": [
       "                 0         1\n",
       "const     1.526217  1.613368\n",
       "so_khach  0.040146  0.041257"
      ]
     },
     "execution_count": 7,
     "metadata": {},
     "output_type": "execute_result"
    }
   ],
   "source": [
    "# Khoảng tin cậy 90% cho hệ số góc:\n",
    "model.conf_int(0.9)"
   ]
  },
  {
   "cell_type": "code",
   "execution_count": 13,
   "id": "769d9856",
   "metadata": {},
   "outputs": [
    {
     "data": {
      "text/html": [
       "<div>\n",
       "<style scoped>\n",
       "    .dataframe tbody tr th:only-of-type {\n",
       "        vertical-align: middle;\n",
       "    }\n",
       "\n",
       "    .dataframe tbody tr th {\n",
       "        vertical-align: top;\n",
       "    }\n",
       "\n",
       "    .dataframe thead th {\n",
       "        text-align: right;\n",
       "    }\n",
       "</style>\n",
       "<table border=\"1\" class=\"dataframe\">\n",
       "  <thead>\n",
       "    <tr style=\"text-align: right;\">\n",
       "      <th></th>\n",
       "      <th>mean</th>\n",
       "      <th>mean_se</th>\n",
       "      <th>mean_ci_lower</th>\n",
       "      <th>mean_ci_upper</th>\n",
       "      <th>obs_ci_lower</th>\n",
       "      <th>obs_ci_upper</th>\n",
       "    </tr>\n",
       "  </thead>\n",
       "  <tbody>\n",
       "    <tr>\n",
       "      <th>0</th>\n",
       "      <td>4.622413</td>\n",
       "      <td>0.052282</td>\n",
       "      <td>4.505922</td>\n",
       "      <td>4.738904</td>\n",
       "      <td>4.210723</td>\n",
       "      <td>5.034103</td>\n",
       "    </tr>\n",
       "  </tbody>\n",
       "</table>\n",
       "</div>"
      ],
      "text/plain": [
       "       mean   mean_se  mean_ci_lower  mean_ci_upper  obs_ci_lower  \\\n",
       "0  4.622413  0.052282       4.505922       4.738904      4.210723   \n",
       "\n",
       "   obs_ci_upper  \n",
       "0      5.034103  "
      ]
     },
     "execution_count": 13,
     "metadata": {},
     "output_type": "execute_result"
    }
   ],
   "source": [
    "# Khoảng tin cậy và khoảng dự báo 95% cho chi phí khi số hành khách là 75\n",
    "predictions = model.get_prediction([1, 75])\n",
    "predictions.summary_frame(alpha=0.05)\n",
    "# Khoảng tin cậy 95% cho giá trị trung bình\n",
    "#[mean_ci_lower, mean_ci_upper] = [4.505922, 4.738904]\n",
    "# Khoảng dự báo cho giá trị cá biệt\n",
    "# [obs_ci_lower, obs_ci_upper] = [4.21072, 5.034103]"
   ]
  },
  {
   "cell_type": "code",
   "execution_count": 15,
   "id": "47ea14f2",
   "metadata": {},
   "outputs": [
    {
     "data": {
      "text/html": [
       "<div>\n",
       "<style scoped>\n",
       "    .dataframe tbody tr th:only-of-type {\n",
       "        vertical-align: middle;\n",
       "    }\n",
       "\n",
       "    .dataframe tbody tr th {\n",
       "        vertical-align: top;\n",
       "    }\n",
       "\n",
       "    .dataframe thead th {\n",
       "        text-align: right;\n",
       "    }\n",
       "</style>\n",
       "<table border=\"1\" class=\"dataframe\">\n",
       "  <thead>\n",
       "    <tr style=\"text-align: right;\">\n",
       "      <th></th>\n",
       "      <th>mean</th>\n",
       "      <th>mean_se</th>\n",
       "      <th>mean_ci_lower</th>\n",
       "      <th>mean_ci_upper</th>\n",
       "      <th>obs_ci_lower</th>\n",
       "      <th>obs_ci_upper</th>\n",
       "    </tr>\n",
       "  </thead>\n",
       "  <tbody>\n",
       "    <tr>\n",
       "      <th>0</th>\n",
       "      <td>4.622413</td>\n",
       "      <td>0.052282</td>\n",
       "      <td>4.527654</td>\n",
       "      <td>4.717171</td>\n",
       "      <td>4.287527</td>\n",
       "      <td>4.957298</td>\n",
       "    </tr>\n",
       "  </tbody>\n",
       "</table>\n",
       "</div>"
      ],
      "text/plain": [
       "       mean   mean_se  mean_ci_lower  mean_ci_upper  obs_ci_lower  \\\n",
       "0  4.622413  0.052282       4.527654       4.717171      4.287527   \n",
       "\n",
       "   obs_ci_upper  \n",
       "0      4.957298  "
      ]
     },
     "execution_count": 15,
     "metadata": {},
     "output_type": "execute_result"
    }
   ],
   "source": [
    "# Khoảng tin cậy và khoảng dự báo 90% cho chi phí khi số hành khách là 75\n",
    "predictions.summary_frame(alpha=0.1)\n",
    "# Khoảng tin cậy 95% cho giá trị trung bình\n",
    "#[mean_ci_lower, mean_ci_upper] = [4.527654, 4.717171]\n",
    "# Khoảng dự báo cho giá trị cá biệt\n",
    "# [obs_ci_lower, obs_ci_upper] = [4.287527, 4.957298]"
   ]
  }
 ],
 "metadata": {
  "kernelspec": {
   "display_name": "Python 3 (ipykernel)",
   "language": "python",
   "name": "python3"
  },
  "language_info": {
   "codemirror_mode": {
    "name": "ipython",
    "version": 3
   },
   "file_extension": ".py",
   "mimetype": "text/x-python",
   "name": "python",
   "nbconvert_exporter": "python",
   "pygments_lexer": "ipython3",
   "version": "3.11.7"
  }
 },
 "nbformat": 4,
 "nbformat_minor": 5
}
