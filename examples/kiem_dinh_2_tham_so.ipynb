{
 "cells": [
  {
   "cell_type": "code",
   "execution_count": 1,
   "id": "e3c7f18a",
   "metadata": {},
   "outputs": [],
   "source": [
    "import pandas as pd\n",
    "import scipy.stats as ss"
   ]
  },
  {
   "cell_type": "code",
   "execution_count": 2,
   "id": "2054681d",
   "metadata": {},
   "outputs": [
    {
     "name": "stdout",
     "output_type": "stream",
     "text": [
      "D:\\MA239\\Du_lieu\n"
     ]
    }
   ],
   "source": [
    "%cd D:\\MA239\\Du_lieu"
   ]
  },
  {
   "cell_type": "markdown",
   "id": "9e4e58c6",
   "metadata": {},
   "source": [
    "- Kiểm định trung bình hai tổng thể\n",
    "    - So sánh hai trung bình mẫu độc lập\n",
    "        - hai phương sai bằng nhau\n",
    "        - hai phương sai khác nhau\n",
    "    - So sánh hai trung bình mẫu theo đôi\n",
    "- Kiểm định tỷ lệ hai tổng thể\n",
    "\n",
    "- Kiểm định phương sai hai tổng thể"
   ]
  },
  {
   "cell_type": "markdown",
   "id": "6faac295",
   "metadata": {},
   "source": [
    "#### Bài 294\n",
    "Trong một nghiên cứu về tác dụng của Vitamin C trong điều trị bệnh\n",
    "cảm lạnh, 22 người bị cảm lạnh tình nguyện được chia làm hai nhóm: nhóm 1 gồm\n",
    "10 người được sử dụng một ngày 4 viên thuốc chứa 1 gram vitamin C. Nhóm 2 gồm\n",
    "12 người còn lại cũng dùng thuốc bề ngoài tương tự nhưng không có vitamin C và\n",
    "vô hại. \n",
    "\n",
    "Tại mức ý nghĩa α = 5%, hãy xét xem việc sử dụng 4 gram vitamin C mỗi ngày có\n",
    "làm giảm thời gian bị cảm lạnh hay không? Giả thiết rằng hai tổng thể tuân theo\n",
    "phân phối chuẩn. "
   ]
  },
  {
   "cell_type": "markdown",
   "id": "86cc2365",
   "metadata": {},
   "source": [
    "Nhận xét: so sánh hai trung bình, mẫu chọn: độc lập, phương sai: không biết, không bằng nhau\n",
    "            \n",
    "Gọi mu1, mu2 là thời gian bị cảm trung bình của nhóm dùng vitamin C và không dùng vitamin C\n",
    "\n",
    "Cần kiểm định: mu1 - mu2 < 0\n",
    "    \n",
    "Đặt cặp giả thuyết:\n",
    "- H0: mu1 - mu2 >= 0\n",
    "- H1: mu1 - mu2 < 0\n",
    "\n",
    "Ta có p-giá trị = pvalue=0.034 < 0.05 nên bác bỏ H0\n",
    "\n",
    "Tại mức ý nghĩa alpha=5%, ta có cơ sở thống kê để cho rằng việc uống vitamin C khi bị cảm thì\n",
    "giảm thời gian bị cảm trung bình"
   ]
  },
  {
   "cell_type": "code",
   "execution_count": 9,
   "id": "47d4a2b1",
   "metadata": {
    "scrolled": true
   },
   "outputs": [
    {
     "data": {
      "text/html": [
       "<div>\n",
       "<style scoped>\n",
       "    .dataframe tbody tr th:only-of-type {\n",
       "        vertical-align: middle;\n",
       "    }\n",
       "\n",
       "    .dataframe tbody tr th {\n",
       "        vertical-align: top;\n",
       "    }\n",
       "\n",
       "    .dataframe thead th {\n",
       "        text-align: right;\n",
       "    }\n",
       "</style>\n",
       "<table border=\"1\" class=\"dataframe\">\n",
       "  <thead>\n",
       "    <tr style=\"text-align: right;\">\n",
       "      <th></th>\n",
       "      <th>DungC</th>\n",
       "      <th>KhongC</th>\n",
       "    </tr>\n",
       "  </thead>\n",
       "  <tbody>\n",
       "    <tr>\n",
       "      <th>0</th>\n",
       "      <td>5.5</td>\n",
       "      <td>6.5</td>\n",
       "    </tr>\n",
       "    <tr>\n",
       "      <th>1</th>\n",
       "      <td>6.0</td>\n",
       "      <td>6.0</td>\n",
       "    </tr>\n",
       "    <tr>\n",
       "      <th>2</th>\n",
       "      <td>7.0</td>\n",
       "      <td>8.5</td>\n",
       "    </tr>\n",
       "    <tr>\n",
       "      <th>3</th>\n",
       "      <td>6.0</td>\n",
       "      <td>7.0</td>\n",
       "    </tr>\n",
       "    <tr>\n",
       "      <th>4</th>\n",
       "      <td>7.5</td>\n",
       "      <td>6.5</td>\n",
       "    </tr>\n",
       "    <tr>\n",
       "      <th>5</th>\n",
       "      <td>6.0</td>\n",
       "      <td>8.0</td>\n",
       "    </tr>\n",
       "    <tr>\n",
       "      <th>6</th>\n",
       "      <td>7.5</td>\n",
       "      <td>7.5</td>\n",
       "    </tr>\n",
       "    <tr>\n",
       "      <th>7</th>\n",
       "      <td>5.5</td>\n",
       "      <td>6.5</td>\n",
       "    </tr>\n",
       "    <tr>\n",
       "      <th>8</th>\n",
       "      <td>7.0</td>\n",
       "      <td>7.5</td>\n",
       "    </tr>\n",
       "    <tr>\n",
       "      <th>9</th>\n",
       "      <td>6.5</td>\n",
       "      <td>6.0</td>\n",
       "    </tr>\n",
       "    <tr>\n",
       "      <th>10</th>\n",
       "      <td>NaN</td>\n",
       "      <td>8.5</td>\n",
       "    </tr>\n",
       "    <tr>\n",
       "      <th>11</th>\n",
       "      <td>NaN</td>\n",
       "      <td>7.0</td>\n",
       "    </tr>\n",
       "  </tbody>\n",
       "</table>\n",
       "</div>"
      ],
      "text/plain": [
       "    DungC  KhongC\n",
       "0     5.5     6.5\n",
       "1     6.0     6.0\n",
       "2     7.0     8.5\n",
       "3     6.0     7.0\n",
       "4     7.5     6.5\n",
       "5     6.0     8.0\n",
       "6     7.5     7.5\n",
       "7     5.5     6.5\n",
       "8     7.0     7.5\n",
       "9     6.5     6.0\n",
       "10    NaN     8.5\n",
       "11    NaN     7.0"
      ]
     },
     "execution_count": 9,
     "metadata": {},
     "output_type": "execute_result"
    }
   ],
   "source": [
    "df_vitamin = pd.read_csv('VitaminC.csv')\n",
    "df_vitamin"
   ]
  },
  {
   "cell_type": "code",
   "execution_count": 12,
   "id": "c02f07e3",
   "metadata": {},
   "outputs": [
    {
     "data": {
      "text/plain": [
       "Ttest_indResult(statistic=-1.9252504477681334, pvalue=0.03428345531776967)"
      ]
     },
     "execution_count": 12,
     "metadata": {},
     "output_type": "execute_result"
    }
   ],
   "source": [
    "ss.ttest_ind(df_vitamin.DungC[0:10], df_vitamin.KhongC, alternative='less', equal_var=False)"
   ]
  },
  {
   "cell_type": "code",
   "execution_count": 13,
   "id": "763ae947",
   "metadata": {},
   "outputs": [
    {
     "data": {
      "text/plain": [
       "0    5.5\n",
       "1    6.0\n",
       "2    7.0\n",
       "3    6.0\n",
       "4    7.5\n",
       "5    6.0\n",
       "6    7.5\n",
       "7    5.5\n",
       "8    7.0\n",
       "9    6.5\n",
       "Name: DungC, dtype: float64"
      ]
     },
     "execution_count": 13,
     "metadata": {},
     "output_type": "execute_result"
    }
   ],
   "source": [
    "df_vitamin.DungC[0:10]"
   ]
  },
  {
   "cell_type": "markdown",
   "id": "ee4bb720",
   "metadata": {},
   "source": [
    "#### Bài 295. \n",
    "\n",
    "Một kỹ sư xây dựng muốn so sánh sức chịu nén của hai loại bê tông. Anh\n",
    "ta chọn ra một mẫu gồm 10 tấm bê tông loại thứ nhất, dữ liệu về sức chịu nén (đơn\n",
    "vị: psi) của những tấm bê tông này như sau:\n",
    "\n",
    "(Dữ liệu có trong file BeTong.xls)\n",
    "\n",
    "Giả sử hai tổng thể tuân theo phân phối chuẩn có phương sai bằng nhau. Hãy kiểm\n",
    "định ở mức ý nghĩa α = 5% xem khả năng chịu lực của hai loại bê tông có khác\n",
    "nhau hay không?\n"
   ]
  },
  {
   "cell_type": "markdown",
   "id": "9beff847",
   "metadata": {},
   "source": [
    "#### Lời giải\n",
    "Nhận xét: so sánh hai trung bình, mẫu: chọn độc lập, phương sai: bằng nhau\n",
    "\n",
    "Gọi mu1, mu2 là trung bình khả năng chịu lực của loại bê tông 1, bê tông 2\n",
    "\n",
    "Kiểm định cặp giả thuyết:\n",
    "- H0: mu1 - mu2 = 0\n",
    "- H1: mu1-mu2 khác 0\n",
    "\n",
    "Ta có pvalue=0.072 > 0.05 nên chấp nhận H0\n",
    "\n",
    "Tại alpha=5%, ta có cơ sở thống kê để cho rằng trung bình khả năng chịu lực của 2 loại bê tông là như nhau."
   ]
  },
  {
   "cell_type": "code",
   "execution_count": 16,
   "id": "0347a750",
   "metadata": {},
   "outputs": [
    {
     "data": {
      "text/html": [
       "<div>\n",
       "<style scoped>\n",
       "    .dataframe tbody tr th:only-of-type {\n",
       "        vertical-align: middle;\n",
       "    }\n",
       "\n",
       "    .dataframe tbody tr th {\n",
       "        vertical-align: top;\n",
       "    }\n",
       "\n",
       "    .dataframe thead th {\n",
       "        text-align: right;\n",
       "    }\n",
       "</style>\n",
       "<table border=\"1\" class=\"dataframe\">\n",
       "  <thead>\n",
       "    <tr style=\"text-align: right;\">\n",
       "      <th></th>\n",
       "      <th>BeTong1</th>\n",
       "      <th>BeTong2</th>\n",
       "    </tr>\n",
       "  </thead>\n",
       "  <tbody>\n",
       "    <tr>\n",
       "      <th>0</th>\n",
       "      <td>3250</td>\n",
       "      <td>3094</td>\n",
       "    </tr>\n",
       "    <tr>\n",
       "      <th>1</th>\n",
       "      <td>3268</td>\n",
       "      <td>3106</td>\n",
       "    </tr>\n",
       "    <tr>\n",
       "      <th>2</th>\n",
       "      <td>4302</td>\n",
       "      <td>3004</td>\n",
       "    </tr>\n",
       "    <tr>\n",
       "      <th>3</th>\n",
       "      <td>3184</td>\n",
       "      <td>3066</td>\n",
       "    </tr>\n",
       "    <tr>\n",
       "      <th>4</th>\n",
       "      <td>3266</td>\n",
       "      <td>2984</td>\n",
       "    </tr>\n",
       "    <tr>\n",
       "      <th>5</th>\n",
       "      <td>3297</td>\n",
       "      <td>3124</td>\n",
       "    </tr>\n",
       "    <tr>\n",
       "      <th>6</th>\n",
       "      <td>3332</td>\n",
       "      <td>3316</td>\n",
       "    </tr>\n",
       "    <tr>\n",
       "      <th>7</th>\n",
       "      <td>3502</td>\n",
       "      <td>3212</td>\n",
       "    </tr>\n",
       "    <tr>\n",
       "      <th>8</th>\n",
       "      <td>3064</td>\n",
       "      <td>3380</td>\n",
       "    </tr>\n",
       "    <tr>\n",
       "      <th>9</th>\n",
       "      <td>3116</td>\n",
       "      <td>3018</td>\n",
       "    </tr>\n",
       "  </tbody>\n",
       "</table>\n",
       "</div>"
      ],
      "text/plain": [
       "   BeTong1  BeTong2\n",
       "0     3250     3094\n",
       "1     3268     3106\n",
       "2     4302     3004\n",
       "3     3184     3066\n",
       "4     3266     2984\n",
       "5     3297     3124\n",
       "6     3332     3316\n",
       "7     3502     3212\n",
       "8     3064     3380\n",
       "9     3116     3018"
      ]
     },
     "execution_count": 16,
     "metadata": {},
     "output_type": "execute_result"
    }
   ],
   "source": [
    "df_betong = pd.read_csv('BeTong.csv')\n",
    "df_betong"
   ]
  },
  {
   "cell_type": "code",
   "execution_count": 17,
   "id": "473b0edf",
   "metadata": {
    "scrolled": true
   },
   "outputs": [
    {
     "data": {
      "text/plain": [
       "Ttest_indResult(statistic=1.9098214757174472, pvalue=0.07222420370089525)"
      ]
     },
     "execution_count": 17,
     "metadata": {},
     "output_type": "execute_result"
    }
   ],
   "source": [
    "ss.ttest_ind(df_betong.BeTong1, df_betong.BeTong2, alternative='two-sided', equal_var=True)"
   ]
  },
  {
   "cell_type": "code",
   "execution_count": null,
   "id": "127fbc06",
   "metadata": {},
   "outputs": [],
   "source": []
  },
  {
   "cell_type": "markdown",
   "id": "cbee4d08",
   "metadata": {},
   "source": [
    "#### Bài 297\n",
    "Để nghiên cứu ảnh hưởng của một loại thuốc ngủ, người ta cho 12 bệnh\n",
    "nhân uống thuốc thật và một lần khác uống giả dược, số giờ ngủ của bệnh nhân\n",
    "được ghi lại như sau (file Thuoc.csv)\n",
    "\n",
    "Với mức ý nghĩa α = 5% có kết luận gì về tác dụng của loại thuốc ngủ trên? Cho\n",
    "biết thời gian ngủ của các bệnh nhân dùng thuốc thật và giả dược tuân theo phân\n",
    "phối chuẩn."
   ]
  },
  {
   "cell_type": "markdown",
   "id": "4bb936b3",
   "metadata": {},
   "source": [
    "#### Lời giải.\n",
    "\n",
    "Nhận xét: chọn mẫu theo đôi\n",
    "\n",
    "Gọi mu1, mu2 là thời gian ngủ trung bình của bệnh nhân khi uống thuốc thật và giả dược.\n",
    "\n",
    "- H0: mu1-mu2 <= 0\n",
    "- H1: mu1-mu2 > 0\n",
    "\n",
    "Ta có pvalue=0.001 < 0.05 nên bác bỏ H0\n",
    "\n",
    "Tại mức ý nghĩa alpha=5%, ta có cơ sở thống kê để cho rằng loại thuốc ngủ này có tác dụng."
   ]
  },
  {
   "cell_type": "code",
   "execution_count": 20,
   "id": "1bf2e139",
   "metadata": {},
   "outputs": [
    {
     "data": {
      "text/plain": [
       "TtestResult(statistic=3.879818488485887, pvalue=0.0012820829501077303, df=11)"
      ]
     },
     "execution_count": 20,
     "metadata": {},
     "output_type": "execute_result"
    }
   ],
   "source": [
    "df_thuoc = pd.read_csv('Thuoc.csv')\n",
    "df_thuoc\n",
    "ss.ttest_rel(df_thuoc.That, df_thuoc.Gia, alternative='greater')"
   ]
  }
 ],
 "metadata": {
  "kernelspec": {
   "display_name": "Python 3 (ipykernel)",
   "language": "python",
   "name": "python3"
  },
  "language_info": {
   "codemirror_mode": {
    "name": "ipython",
    "version": 3
   },
   "file_extension": ".py",
   "mimetype": "text/x-python",
   "name": "python",
   "nbconvert_exporter": "python",
   "pygments_lexer": "ipython3",
   "version": "3.10.9"
  }
 },
 "nbformat": 4,
 "nbformat_minor": 5
}
