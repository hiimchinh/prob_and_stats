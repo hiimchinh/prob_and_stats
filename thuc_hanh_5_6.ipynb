{
 "cells": [
  {
   "cell_type": "code",
   "execution_count": 1,
   "id": "befbb20f",
   "metadata": {},
   "outputs": [
    {
     "name": "stdout",
     "output_type": "stream",
     "text": [
      "D:\\MA239\\Du_lieu\n"
     ]
    }
   ],
   "source": [
    "import pandas as pd\n",
    "%cd D:\\MA239\\Du_lieu\n",
    "df = pd.read_csv(\"SoLieu.csv\")"
   ]
  },
  {
   "cell_type": "code",
   "execution_count": 5,
   "id": "d923e29c",
   "metadata": {},
   "outputs": [
    {
     "data": {
      "text/plain": [
       "Nam    55\n",
       "Nu     45\n",
       "Name: GioiTinh, dtype: int64"
      ]
     },
     "execution_count": 5,
     "metadata": {},
     "output_type": "execute_result"
    }
   ],
   "source": [
    "df.GioiTinh.value_counts()"
   ]
  },
  {
   "cell_type": "code",
   "execution_count": 6,
   "id": "a4f08abc",
   "metadata": {},
   "outputs": [
    {
     "data": {
      "text/plain": [
       "ThanhPho    42\n",
       "MienNui     26\n",
       "NongThon    20\n",
       "HaiDao      12\n",
       "Name: KhuVuc, dtype: int64"
      ]
     },
     "execution_count": 6,
     "metadata": {},
     "output_type": "execute_result"
    }
   ],
   "source": [
    "df.KhuVuc.value_counts()"
   ]
  },
  {
   "cell_type": "code",
   "execution_count": 7,
   "id": "c1f59900",
   "metadata": {},
   "outputs": [
    {
     "data": {
      "text/html": [
       "<div>\n",
       "<style scoped>\n",
       "    .dataframe tbody tr th:only-of-type {\n",
       "        vertical-align: middle;\n",
       "    }\n",
       "\n",
       "    .dataframe tbody tr th {\n",
       "        vertical-align: top;\n",
       "    }\n",
       "\n",
       "    .dataframe thead th {\n",
       "        text-align: right;\n",
       "    }\n",
       "</style>\n",
       "<table border=\"1\" class=\"dataframe\">\n",
       "  <thead>\n",
       "    <tr style=\"text-align: right;\">\n",
       "      <th>KhuVuc</th>\n",
       "      <th>HaiDao</th>\n",
       "      <th>MienNui</th>\n",
       "      <th>NongThon</th>\n",
       "      <th>ThanhPho</th>\n",
       "    </tr>\n",
       "    <tr>\n",
       "      <th>GioiTinh</th>\n",
       "      <th></th>\n",
       "      <th></th>\n",
       "      <th></th>\n",
       "      <th></th>\n",
       "    </tr>\n",
       "  </thead>\n",
       "  <tbody>\n",
       "    <tr>\n",
       "      <th>Nam</th>\n",
       "      <td>6</td>\n",
       "      <td>13</td>\n",
       "      <td>10</td>\n",
       "      <td>26</td>\n",
       "    </tr>\n",
       "    <tr>\n",
       "      <th>Nu</th>\n",
       "      <td>6</td>\n",
       "      <td>13</td>\n",
       "      <td>10</td>\n",
       "      <td>16</td>\n",
       "    </tr>\n",
       "  </tbody>\n",
       "</table>\n",
       "</div>"
      ],
      "text/plain": [
       "KhuVuc    HaiDao  MienNui  NongThon  ThanhPho\n",
       "GioiTinh                                     \n",
       "Nam            6       13        10        26\n",
       "Nu             6       13        10        16"
      ]
     },
     "execution_count": 7,
     "metadata": {},
     "output_type": "execute_result"
    }
   ],
   "source": [
    "pd.crosstab(df.GioiTinh, df.KhuVuc)"
   ]
  },
  {
   "cell_type": "code",
   "execution_count": null,
   "id": "38f13928",
   "metadata": {},
   "outputs": [],
   "source": [
    "# Trong nhóm được điều tra có bao nhiêu nam và có bao nhiêu người sống ở thành\n",
    "# phố.\n",
    "# b. Tính số nam sống ở hải đảo và nữ sống ở nông thôn trong nhóm những người\n",
    "# được điều tra.\n",
    "#a, Có 55 Nam và có 42 người sống ở thành phố\n",
    "#b, Có 6 Nam sống ở hải đảo và 10 nữ sống ở nông thôn"
   ]
  },
  {
   "cell_type": "code",
   "execution_count": 8,
   "id": "3e267a42",
   "metadata": {},
   "outputs": [
    {
     "data": {
      "text/html": [
       "<div>\n",
       "<style scoped>\n",
       "    .dataframe tbody tr th:only-of-type {\n",
       "        vertical-align: middle;\n",
       "    }\n",
       "\n",
       "    .dataframe tbody tr th {\n",
       "        vertical-align: top;\n",
       "    }\n",
       "\n",
       "    .dataframe thead th {\n",
       "        text-align: right;\n",
       "    }\n",
       "</style>\n",
       "<table border=\"1\" class=\"dataframe\">\n",
       "  <thead>\n",
       "    <tr style=\"text-align: right;\">\n",
       "      <th>KhuVuc</th>\n",
       "      <th>HaiDao</th>\n",
       "      <th>MienNui</th>\n",
       "      <th>NongThon</th>\n",
       "      <th>ThanhPho</th>\n",
       "    </tr>\n",
       "    <tr>\n",
       "      <th>GioiTinh</th>\n",
       "      <th></th>\n",
       "      <th></th>\n",
       "      <th></th>\n",
       "      <th></th>\n",
       "    </tr>\n",
       "  </thead>\n",
       "  <tbody>\n",
       "    <tr>\n",
       "      <th>Nam</th>\n",
       "      <td>0.109091</td>\n",
       "      <td>0.236364</td>\n",
       "      <td>0.181818</td>\n",
       "      <td>0.472727</td>\n",
       "    </tr>\n",
       "    <tr>\n",
       "      <th>Nu</th>\n",
       "      <td>0.133333</td>\n",
       "      <td>0.288889</td>\n",
       "      <td>0.222222</td>\n",
       "      <td>0.355556</td>\n",
       "    </tr>\n",
       "  </tbody>\n",
       "</table>\n",
       "</div>"
      ],
      "text/plain": [
       "KhuVuc      HaiDao   MienNui  NongThon  ThanhPho\n",
       "GioiTinh                                        \n",
       "Nam       0.109091  0.236364  0.181818  0.472727\n",
       "Nu        0.133333  0.288889  0.222222  0.355556"
      ]
     },
     "execution_count": 8,
     "metadata": {},
     "output_type": "execute_result"
    }
   ],
   "source": [
    "pd.crosstab(df.GioiTinh,df.KhuVuc,normalize='index')"
   ]
  },
  {
   "cell_type": "code",
   "execution_count": 9,
   "id": "5314b23e",
   "metadata": {},
   "outputs": [],
   "source": [
    "#  Trong số nữ được điều tra, hãy tính tỉ lệ nữ sống ở thành phố và miền núi\n",
    "#Tỉ lệ nữ sống ở thành phố là 0.355556\n",
    "#Tỉ lệ nữ sống ở nông thôn là 0.222222"
   ]
  },
  {
   "cell_type": "markdown",
   "id": "7aaead52",
   "metadata": {},
   "source": [
    " Tiến hành phân tổ cột dữ liệu về tuổi thành các tổ với các điểm chia là 20, 30, 40, 50, 60, 70, 80\n",
    "và tính tỉ lệ những người được điều tra có độ tuổi không vượt quá 50."
   ]
  },
  {
   "cell_type": "code",
   "execution_count": 13,
   "id": "8e1fb7e1",
   "metadata": {},
   "outputs": [
    {
     "name": "stdout",
     "output_type": "stream",
     "text": [
      "24\n",
      "78\n"
     ]
    },
    {
     "data": {
      "text/plain": [
       "(30, 40]    41\n",
       "(20, 30]    20\n",
       "(60, 70]    13\n",
       "(40, 50]    12\n",
       "(50, 60]    12\n",
       "(70, 80]     2\n",
       "Name: Tuoi, dtype: int64"
      ]
     },
     "execution_count": 13,
     "metadata": {},
     "output_type": "execute_result"
    }
   ],
   "source": [
    "print(df.Tuoi.min())\n",
    "print(df.Tuoi.max())\n",
    "chia_tuoi = pd.cut(df.Tuoi ,bins=[20, 30, 40, 50 ,60, 70, 80])\n",
    "chia_tuoi.value_counts()"
   ]
  },
  {
   "cell_type": "markdown",
   "id": "f3e31d2a",
   "metadata": {},
   "source": [
    ". Tiến hành phân tổ cột dữ liệu về thu nhập thành các tổ với các điểm chia là\n",
    "20, 30, 40, 50, 60, 70, 80, 90, 100 và cho nhận xét"
   ]
  },
  {
   "cell_type": "code",
   "execution_count": 15,
   "id": "162f62b4",
   "metadata": {},
   "outputs": [
    {
     "name": "stdout",
     "output_type": "stream",
     "text": [
      "20\n",
      "100\n"
     ]
    },
    {
     "data": {
      "text/plain": [
       "(19.999, 30.0]    37\n",
       "(40.0, 50.0]      30\n",
       "(30.0, 40.0]      10\n",
       "(70.0, 80.0]       9\n",
       "(90.0, 100.0]      6\n",
       "(60.0, 70.0]       5\n",
       "(50.0, 60.0]       2\n",
       "(80.0, 90.0]       1\n",
       "Name: ThuNhap, dtype: int64"
      ]
     },
     "execution_count": 15,
     "metadata": {},
     "output_type": "execute_result"
    }
   ],
   "source": [
    "print(df.ThuNhap.min())\n",
    "print(df.ThuNhap.max())\n",
    "chia_thu_nhap = pd.cut(df.ThuNhap, bins = [20, 30, 40, 50, 60, 70, 80, 90, 100] , include_lowest=True)\n",
    "chia_thu_nhap.value_counts()\n"
   ]
  },
  {
   "cell_type": "markdown",
   "id": "dbc6c68d",
   "metadata": {},
   "source": [
    "và tính tỉ lệ những người được điều tra có độ tuổi không vượt quá 50."
   ]
  },
  {
   "cell_type": "code",
   "execution_count": 28,
   "id": "65800368",
   "metadata": {},
   "outputs": [
    {
     "data": {
      "text/plain": [
       "0.73"
      ]
     },
     "execution_count": 28,
     "metadata": {},
     "output_type": "execute_result"
    }
   ],
   "source": [
    "tuoi_khong_qua50 = df[df.Tuoi <= 50] \n",
    "tuoi_khong_qua50\n",
    "tuoi_khong_qua50.shape[0]\n",
    "songuoi=df.shape[0]\n",
    "\n",
    "tinh_tile = tuoi_khong_qua50.shape[0] /songuoi\n",
    "tinh_tile\n",
    "\n",
    "\n"
   ]
  },
  {
   "cell_type": "code",
   "execution_count": 2,
   "id": "54d6d75b",
   "metadata": {},
   "outputs": [],
   "source": [
    "# Bai 6\n",
    "diem_thi = pd.read_csv('DiemThi.csv')"
   ]
  },
  {
   "cell_type": "code",
   "execution_count": 4,
   "id": "edf01d38",
   "metadata": {},
   "outputs": [
    {
     "data": {
      "text/plain": [
       "DiemThi    53.3\n",
       "dtype: float64"
      ]
     },
     "execution_count": 4,
     "metadata": {},
     "output_type": "execute_result"
    }
   ],
   "source": [
    "# Tính trung bình\n",
    "diem_thi.mean()"
   ]
  },
  {
   "cell_type": "code",
   "execution_count": 6,
   "id": "45311d28",
   "metadata": {},
   "outputs": [
    {
     "data": {
      "text/plain": [
       "DiemThi    48.0\n",
       "dtype: float64"
      ]
     },
     "execution_count": 6,
     "metadata": {},
     "output_type": "execute_result"
    }
   ],
   "source": [
    "#tính trung vị\n",
    "diem_thi.median()"
   ]
  },
  {
   "cell_type": "code",
   "execution_count": 8,
   "id": "9b9c2c41",
   "metadata": {},
   "outputs": [
    {
     "data": {
      "text/html": [
       "<div>\n",
       "<style scoped>\n",
       "    .dataframe tbody tr th:only-of-type {\n",
       "        vertical-align: middle;\n",
       "    }\n",
       "\n",
       "    .dataframe tbody tr th {\n",
       "        vertical-align: top;\n",
       "    }\n",
       "\n",
       "    .dataframe thead th {\n",
       "        text-align: right;\n",
       "    }\n",
       "</style>\n",
       "<table border=\"1\" class=\"dataframe\">\n",
       "  <thead>\n",
       "    <tr style=\"text-align: right;\">\n",
       "      <th></th>\n",
       "      <th>DiemThi</th>\n",
       "    </tr>\n",
       "  </thead>\n",
       "  <tbody>\n",
       "    <tr>\n",
       "      <th>0</th>\n",
       "      <td>47</td>\n",
       "    </tr>\n",
       "    <tr>\n",
       "      <th>1</th>\n",
       "      <td>60</td>\n",
       "    </tr>\n",
       "  </tbody>\n",
       "</table>\n",
       "</div>"
      ],
      "text/plain": [
       "   DiemThi\n",
       "0       47\n",
       "1       60"
      ]
     },
     "execution_count": 8,
     "metadata": {},
     "output_type": "execute_result"
    }
   ],
   "source": [
    "#mode\n",
    "diem_thi.mode()"
   ]
  },
  {
   "cell_type": "code",
   "execution_count": 9,
   "id": "ad744024",
   "metadata": {},
   "outputs": [
    {
     "data": {
      "text/html": [
       "<div>\n",
       "<style scoped>\n",
       "    .dataframe tbody tr th:only-of-type {\n",
       "        vertical-align: middle;\n",
       "    }\n",
       "\n",
       "    .dataframe tbody tr th {\n",
       "        vertical-align: top;\n",
       "    }\n",
       "\n",
       "    .dataframe thead th {\n",
       "        text-align: right;\n",
       "    }\n",
       "</style>\n",
       "<table border=\"1\" class=\"dataframe\">\n",
       "  <thead>\n",
       "    <tr style=\"text-align: right;\">\n",
       "      <th></th>\n",
       "      <th>DiemThi</th>\n",
       "    </tr>\n",
       "  </thead>\n",
       "  <tbody>\n",
       "    <tr>\n",
       "      <th>count</th>\n",
       "      <td>40.000000</td>\n",
       "    </tr>\n",
       "    <tr>\n",
       "      <th>mean</th>\n",
       "      <td>53.300000</td>\n",
       "    </tr>\n",
       "    <tr>\n",
       "      <th>std</th>\n",
       "      <td>21.003296</td>\n",
       "    </tr>\n",
       "    <tr>\n",
       "      <th>min</th>\n",
       "      <td>19.000000</td>\n",
       "    </tr>\n",
       "    <tr>\n",
       "      <th>25%</th>\n",
       "      <td>37.000000</td>\n",
       "    </tr>\n",
       "    <tr>\n",
       "      <th>50%</th>\n",
       "      <td>48.000000</td>\n",
       "    </tr>\n",
       "    <tr>\n",
       "      <th>75%</th>\n",
       "      <td>61.500000</td>\n",
       "    </tr>\n",
       "    <tr>\n",
       "      <th>max</th>\n",
       "      <td>100.000000</td>\n",
       "    </tr>\n",
       "  </tbody>\n",
       "</table>\n",
       "</div>"
      ],
      "text/plain": [
       "          DiemThi\n",
       "count   40.000000\n",
       "mean    53.300000\n",
       "std     21.003296\n",
       "min     19.000000\n",
       "25%     37.000000\n",
       "50%     48.000000\n",
       "75%     61.500000\n",
       "max    100.000000"
      ]
     },
     "execution_count": 9,
     "metadata": {},
     "output_type": "execute_result"
    }
   ],
   "source": [
    "#tứ phân vị: Q1 = 37, Q2=48, Q3=61.5\n",
    "diem_thi.describe()"
   ]
  },
  {
   "cell_type": "code",
   "execution_count": 11,
   "id": "3b181840",
   "metadata": {},
   "outputs": [
    {
     "data": {
      "text/html": [
       "<div>\n",
       "<style scoped>\n",
       "    .dataframe tbody tr th:only-of-type {\n",
       "        vertical-align: middle;\n",
       "    }\n",
       "\n",
       "    .dataframe tbody tr th {\n",
       "        vertical-align: top;\n",
       "    }\n",
       "\n",
       "    .dataframe thead th {\n",
       "        text-align: right;\n",
       "    }\n",
       "</style>\n",
       "<table border=\"1\" class=\"dataframe\">\n",
       "  <thead>\n",
       "    <tr style=\"text-align: right;\">\n",
       "      <th></th>\n",
       "      <th>DiemThi</th>\n",
       "    </tr>\n",
       "  </thead>\n",
       "  <tbody>\n",
       "    <tr>\n",
       "      <th>0.1</th>\n",
       "      <td>26.9</td>\n",
       "    </tr>\n",
       "    <tr>\n",
       "      <th>0.6</th>\n",
       "      <td>58.2</td>\n",
       "    </tr>\n",
       "    <tr>\n",
       "      <th>0.9</th>\n",
       "      <td>87.3</td>\n",
       "    </tr>\n",
       "  </tbody>\n",
       "</table>\n",
       "</div>"
      ],
      "text/plain": [
       "     DiemThi\n",
       "0.1     26.9\n",
       "0.6     58.2\n",
       "0.9     87.3"
      ]
     },
     "execution_count": 11,
     "metadata": {},
     "output_type": "execute_result"
    }
   ],
   "source": [
    "#Phân vị thứ 10, 60, 90 lần lượt là: 26.9, 58.2, 87.3\n",
    "diem_thi.quantile([0.1,0.6,0.9])"
   ]
  },
  {
   "cell_type": "code",
   "execution_count": 13,
   "id": "401ddb0b",
   "metadata": {},
   "outputs": [
    {
     "data": {
      "text/plain": [
       "DiemThi    81\n",
       "dtype: int64"
      ]
     },
     "execution_count": 13,
     "metadata": {},
     "output_type": "execute_result"
    }
   ],
   "source": [
    "#c. Số đo độ phân tán\n",
    "# khoảng biến thiên\n",
    "diem_thi.max() - diem_thi.min()"
   ]
  },
  {
   "cell_type": "code",
   "execution_count": 15,
   "id": "197fe115",
   "metadata": {},
   "outputs": [
    {
     "data": {
      "text/plain": [
       "DiemThi    24.5\n",
       "dtype: float64"
      ]
     },
     "execution_count": 15,
     "metadata": {},
     "output_type": "execute_result"
    }
   ],
   "source": [
    "# độ trải giữa = Q3 - Q1\n",
    "diem_thi.quantile(0.75) - diem_thi.quantile(0.25)"
   ]
  },
  {
   "cell_type": "code",
   "execution_count": 17,
   "id": "b5f893a9",
   "metadata": {},
   "outputs": [
    {
     "data": {
      "text/plain": [
       "DiemThi    441.138462\n",
       "dtype: float64"
      ]
     },
     "execution_count": 17,
     "metadata": {},
     "output_type": "execute_result"
    }
   ],
   "source": [
    "# Phương sai\n",
    "diem_thi.var()"
   ]
  },
  {
   "cell_type": "code",
   "execution_count": 18,
   "id": "cf48b234",
   "metadata": {},
   "outputs": [
    {
     "data": {
      "text/plain": [
       "DiemThi    21.003296\n",
       "dtype: float64"
      ]
     },
     "execution_count": 18,
     "metadata": {},
     "output_type": "execute_result"
    }
   ],
   "source": [
    "# độ lệch chuẩn\n",
    "diem_thi.std()"
   ]
  }
 ],
 "metadata": {
  "kernelspec": {
   "display_name": "Python 3 (ipykernel)",
   "language": "python",
   "name": "python3"
  },
  "language_info": {
   "codemirror_mode": {
    "name": "ipython",
    "version": 3
   },
   "file_extension": ".py",
   "mimetype": "text/x-python",
   "name": "python",
   "nbconvert_exporter": "python",
   "pygments_lexer": "ipython3",
   "version": "3.10.9"
  }
 },
 "nbformat": 4,
 "nbformat_minor": 5
}
